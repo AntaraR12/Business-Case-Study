{
 "cells": [
  {
   "attachments": {},
   "cell_type": "markdown",
   "metadata": {},
   "source": [
    "## Problem Statement\n",
    "Analyze the data and generate insights that could help Netflix in deciding which type of shows/movies to produce and how they can grow the business in different countries"
   ]
  },
  {
   "attachments": {},
   "cell_type": "markdown",
   "metadata": {},
   "source": [
    "## Importing the libraries "
   ]
  },
  {
   "cell_type": "code",
   "execution_count": 277,
   "metadata": {},
   "outputs": [],
   "source": [
    "import pandas as pd\n",
    "import numpy as np\n",
    "import seaborn as sns\n",
    "import matplotlib.pyplot as plt\n",
    "import warnings\n",
    "\n",
    "warnings.filterwarnings('ignore')"
   ]
  },
  {
   "attachments": {},
   "cell_type": "markdown",
   "metadata": {},
   "source": [
    "## Loading the data and gathering information about the file"
   ]
  },
  {
   "cell_type": "code",
   "execution_count": 278,
   "metadata": {},
   "outputs": [
    {
     "data": {
      "text/html": [
       "<div>\n",
       "<style scoped>\n",
       "    .dataframe tbody tr th:only-of-type {\n",
       "        vertical-align: middle;\n",
       "    }\n",
       "\n",
       "    .dataframe tbody tr th {\n",
       "        vertical-align: top;\n",
       "    }\n",
       "\n",
       "    .dataframe thead th {\n",
       "        text-align: right;\n",
       "    }\n",
       "</style>\n",
       "<table border=\"1\" class=\"dataframe\">\n",
       "  <thead>\n",
       "    <tr style=\"text-align: right;\">\n",
       "      <th></th>\n",
       "      <th>show_id</th>\n",
       "      <th>type</th>\n",
       "      <th>title</th>\n",
       "      <th>director</th>\n",
       "      <th>cast</th>\n",
       "      <th>country</th>\n",
       "      <th>date_added</th>\n",
       "      <th>release_year</th>\n",
       "      <th>rating</th>\n",
       "      <th>duration</th>\n",
       "      <th>listed_in</th>\n",
       "      <th>description</th>\n",
       "    </tr>\n",
       "  </thead>\n",
       "  <tbody>\n",
       "    <tr>\n",
       "      <th>0</th>\n",
       "      <td>s1</td>\n",
       "      <td>Movie</td>\n",
       "      <td>Dick Johnson Is Dead</td>\n",
       "      <td>Kirsten Johnson</td>\n",
       "      <td>NaN</td>\n",
       "      <td>United States</td>\n",
       "      <td>September 25, 2021</td>\n",
       "      <td>2020</td>\n",
       "      <td>PG-13</td>\n",
       "      <td>90 min</td>\n",
       "      <td>Documentaries</td>\n",
       "      <td>As her father nears the end of his life, filmm...</td>\n",
       "    </tr>\n",
       "    <tr>\n",
       "      <th>1</th>\n",
       "      <td>s2</td>\n",
       "      <td>TV Show</td>\n",
       "      <td>Blood &amp; Water</td>\n",
       "      <td>NaN</td>\n",
       "      <td>Ama Qamata, Khosi Ngema, Gail Mabalane, Thaban...</td>\n",
       "      <td>South Africa</td>\n",
       "      <td>September 24, 2021</td>\n",
       "      <td>2021</td>\n",
       "      <td>TV-MA</td>\n",
       "      <td>2 Seasons</td>\n",
       "      <td>International TV Shows, TV Dramas, TV Mysteries</td>\n",
       "      <td>After crossing paths at a party, a Cape Town t...</td>\n",
       "    </tr>\n",
       "    <tr>\n",
       "      <th>2</th>\n",
       "      <td>s3</td>\n",
       "      <td>TV Show</td>\n",
       "      <td>Ganglands</td>\n",
       "      <td>Julien Leclercq</td>\n",
       "      <td>Sami Bouajila, Tracy Gotoas, Samuel Jouy, Nabi...</td>\n",
       "      <td>NaN</td>\n",
       "      <td>September 24, 2021</td>\n",
       "      <td>2021</td>\n",
       "      <td>TV-MA</td>\n",
       "      <td>1 Season</td>\n",
       "      <td>Crime TV Shows, International TV Shows, TV Act...</td>\n",
       "      <td>To protect his family from a powerful drug lor...</td>\n",
       "    </tr>\n",
       "    <tr>\n",
       "      <th>3</th>\n",
       "      <td>s4</td>\n",
       "      <td>TV Show</td>\n",
       "      <td>Jailbirds New Orleans</td>\n",
       "      <td>NaN</td>\n",
       "      <td>NaN</td>\n",
       "      <td>NaN</td>\n",
       "      <td>September 24, 2021</td>\n",
       "      <td>2021</td>\n",
       "      <td>TV-MA</td>\n",
       "      <td>1 Season</td>\n",
       "      <td>Docuseries, Reality TV</td>\n",
       "      <td>Feuds, flirtations and toilet talk go down amo...</td>\n",
       "    </tr>\n",
       "    <tr>\n",
       "      <th>4</th>\n",
       "      <td>s5</td>\n",
       "      <td>TV Show</td>\n",
       "      <td>Kota Factory</td>\n",
       "      <td>NaN</td>\n",
       "      <td>Mayur More, Jitendra Kumar, Ranjan Raj, Alam K...</td>\n",
       "      <td>India</td>\n",
       "      <td>September 24, 2021</td>\n",
       "      <td>2021</td>\n",
       "      <td>TV-MA</td>\n",
       "      <td>2 Seasons</td>\n",
       "      <td>International TV Shows, Romantic TV Shows, TV ...</td>\n",
       "      <td>In a city of coaching centers known to train I...</td>\n",
       "    </tr>\n",
       "  </tbody>\n",
       "</table>\n",
       "</div>"
      ],
      "text/plain": [
       "  show_id     type                  title         director  \\\n",
       "0      s1    Movie   Dick Johnson Is Dead  Kirsten Johnson   \n",
       "1      s2  TV Show          Blood & Water              NaN   \n",
       "2      s3  TV Show              Ganglands  Julien Leclercq   \n",
       "3      s4  TV Show  Jailbirds New Orleans              NaN   \n",
       "4      s5  TV Show           Kota Factory              NaN   \n",
       "\n",
       "                                                cast        country  \\\n",
       "0                                                NaN  United States   \n",
       "1  Ama Qamata, Khosi Ngema, Gail Mabalane, Thaban...   South Africa   \n",
       "2  Sami Bouajila, Tracy Gotoas, Samuel Jouy, Nabi...            NaN   \n",
       "3                                                NaN            NaN   \n",
       "4  Mayur More, Jitendra Kumar, Ranjan Raj, Alam K...          India   \n",
       "\n",
       "           date_added  release_year rating   duration  \\\n",
       "0  September 25, 2021          2020  PG-13     90 min   \n",
       "1  September 24, 2021          2021  TV-MA  2 Seasons   \n",
       "2  September 24, 2021          2021  TV-MA   1 Season   \n",
       "3  September 24, 2021          2021  TV-MA   1 Season   \n",
       "4  September 24, 2021          2021  TV-MA  2 Seasons   \n",
       "\n",
       "                                           listed_in  \\\n",
       "0                                      Documentaries   \n",
       "1    International TV Shows, TV Dramas, TV Mysteries   \n",
       "2  Crime TV Shows, International TV Shows, TV Act...   \n",
       "3                             Docuseries, Reality TV   \n",
       "4  International TV Shows, Romantic TV Shows, TV ...   \n",
       "\n",
       "                                         description  \n",
       "0  As her father nears the end of his life, filmm...  \n",
       "1  After crossing paths at a party, a Cape Town t...  \n",
       "2  To protect his family from a powerful drug lor...  \n",
       "3  Feuds, flirtations and toilet talk go down amo...  \n",
       "4  In a city of coaching centers known to train I...  "
      ]
     },
     "execution_count": 278,
     "metadata": {},
     "output_type": "execute_result"
    }
   ],
   "source": [
    "df = pd.read_csv('./data/netflix_eda.csv')\n",
    "\n",
    "\n",
    "df.head()"
   ]
  },
  {
   "cell_type": "code",
   "execution_count": 279,
   "metadata": {},
   "outputs": [
    {
     "data": {
      "text/plain": [
       "(8807, 12)"
      ]
     },
     "execution_count": 279,
     "metadata": {},
     "output_type": "execute_result"
    }
   ],
   "source": [
    "df.shape"
   ]
  },
  {
   "attachments": {},
   "cell_type": "markdown",
   "metadata": {},
   "source": [
    "Here we are spliting the file into two, one for TV shows and one for movies"
   ]
  },
  {
   "cell_type": "code",
   "execution_count": 280,
   "metadata": {},
   "outputs": [],
   "source": [
    "df_movie = df[df['type'] == 'Movie']\n",
    "df_shows = df[df['type'] == 'TV Show']"
   ]
  },
  {
   "cell_type": "code",
   "execution_count": 281,
   "metadata": {},
   "outputs": [
    {
     "name": "stdout",
     "output_type": "stream",
     "text": [
      "Shape of the movie dataframe: (6131, 12)\n"
     ]
    }
   ],
   "source": [
    "print(f'Shape of the movie dataframe: {df_movie.shape}')"
   ]
  },
  {
   "cell_type": "code",
   "execution_count": 282,
   "metadata": {},
   "outputs": [
    {
     "name": "stdout",
     "output_type": "stream",
     "text": [
      "Shape of the TV Shows dataframe: (2676, 12)\n"
     ]
    }
   ],
   "source": [
    "print(f'Shape of the TV Shows dataframe: {df_shows.shape}')"
   ]
  },
  {
   "attachments": {},
   "cell_type": "markdown",
   "metadata": {},
   "source": [
    "## Lets us now explore the TV Shows"
   ]
  },
  {
   "cell_type": "code",
   "execution_count": 283,
   "metadata": {},
   "outputs": [
    {
     "data": {
      "text/html": [
       "<div>\n",
       "<style scoped>\n",
       "    .dataframe tbody tr th:only-of-type {\n",
       "        vertical-align: middle;\n",
       "    }\n",
       "\n",
       "    .dataframe tbody tr th {\n",
       "        vertical-align: top;\n",
       "    }\n",
       "\n",
       "    .dataframe thead th {\n",
       "        text-align: right;\n",
       "    }\n",
       "</style>\n",
       "<table border=\"1\" class=\"dataframe\">\n",
       "  <thead>\n",
       "    <tr style=\"text-align: right;\">\n",
       "      <th></th>\n",
       "      <th>show_id</th>\n",
       "      <th>type</th>\n",
       "      <th>title</th>\n",
       "      <th>director</th>\n",
       "      <th>cast</th>\n",
       "      <th>country</th>\n",
       "      <th>date_added</th>\n",
       "      <th>release_year</th>\n",
       "      <th>rating</th>\n",
       "      <th>duration</th>\n",
       "      <th>listed_in</th>\n",
       "      <th>description</th>\n",
       "    </tr>\n",
       "  </thead>\n",
       "  <tbody>\n",
       "    <tr>\n",
       "      <th>1</th>\n",
       "      <td>s2</td>\n",
       "      <td>TV Show</td>\n",
       "      <td>Blood &amp; Water</td>\n",
       "      <td>NaN</td>\n",
       "      <td>Ama Qamata, Khosi Ngema, Gail Mabalane, Thaban...</td>\n",
       "      <td>South Africa</td>\n",
       "      <td>September 24, 2021</td>\n",
       "      <td>2021</td>\n",
       "      <td>TV-MA</td>\n",
       "      <td>2 Seasons</td>\n",
       "      <td>International TV Shows, TV Dramas, TV Mysteries</td>\n",
       "      <td>After crossing paths at a party, a Cape Town t...</td>\n",
       "    </tr>\n",
       "    <tr>\n",
       "      <th>2</th>\n",
       "      <td>s3</td>\n",
       "      <td>TV Show</td>\n",
       "      <td>Ganglands</td>\n",
       "      <td>Julien Leclercq</td>\n",
       "      <td>Sami Bouajila, Tracy Gotoas, Samuel Jouy, Nabi...</td>\n",
       "      <td>NaN</td>\n",
       "      <td>September 24, 2021</td>\n",
       "      <td>2021</td>\n",
       "      <td>TV-MA</td>\n",
       "      <td>1 Season</td>\n",
       "      <td>Crime TV Shows, International TV Shows, TV Act...</td>\n",
       "      <td>To protect his family from a powerful drug lor...</td>\n",
       "    </tr>\n",
       "    <tr>\n",
       "      <th>3</th>\n",
       "      <td>s4</td>\n",
       "      <td>TV Show</td>\n",
       "      <td>Jailbirds New Orleans</td>\n",
       "      <td>NaN</td>\n",
       "      <td>NaN</td>\n",
       "      <td>NaN</td>\n",
       "      <td>September 24, 2021</td>\n",
       "      <td>2021</td>\n",
       "      <td>TV-MA</td>\n",
       "      <td>1 Season</td>\n",
       "      <td>Docuseries, Reality TV</td>\n",
       "      <td>Feuds, flirtations and toilet talk go down amo...</td>\n",
       "    </tr>\n",
       "    <tr>\n",
       "      <th>4</th>\n",
       "      <td>s5</td>\n",
       "      <td>TV Show</td>\n",
       "      <td>Kota Factory</td>\n",
       "      <td>NaN</td>\n",
       "      <td>Mayur More, Jitendra Kumar, Ranjan Raj, Alam K...</td>\n",
       "      <td>India</td>\n",
       "      <td>September 24, 2021</td>\n",
       "      <td>2021</td>\n",
       "      <td>TV-MA</td>\n",
       "      <td>2 Seasons</td>\n",
       "      <td>International TV Shows, Romantic TV Shows, TV ...</td>\n",
       "      <td>In a city of coaching centers known to train I...</td>\n",
       "    </tr>\n",
       "    <tr>\n",
       "      <th>5</th>\n",
       "      <td>s6</td>\n",
       "      <td>TV Show</td>\n",
       "      <td>Midnight Mass</td>\n",
       "      <td>Mike Flanagan</td>\n",
       "      <td>Kate Siegel, Zach Gilford, Hamish Linklater, H...</td>\n",
       "      <td>NaN</td>\n",
       "      <td>September 24, 2021</td>\n",
       "      <td>2021</td>\n",
       "      <td>TV-MA</td>\n",
       "      <td>1 Season</td>\n",
       "      <td>TV Dramas, TV Horror, TV Mysteries</td>\n",
       "      <td>The arrival of a charismatic young priest brin...</td>\n",
       "    </tr>\n",
       "  </tbody>\n",
       "</table>\n",
       "</div>"
      ],
      "text/plain": [
       "  show_id     type                  title         director  \\\n",
       "1      s2  TV Show          Blood & Water              NaN   \n",
       "2      s3  TV Show              Ganglands  Julien Leclercq   \n",
       "3      s4  TV Show  Jailbirds New Orleans              NaN   \n",
       "4      s5  TV Show           Kota Factory              NaN   \n",
       "5      s6  TV Show          Midnight Mass    Mike Flanagan   \n",
       "\n",
       "                                                cast       country  \\\n",
       "1  Ama Qamata, Khosi Ngema, Gail Mabalane, Thaban...  South Africa   \n",
       "2  Sami Bouajila, Tracy Gotoas, Samuel Jouy, Nabi...           NaN   \n",
       "3                                                NaN           NaN   \n",
       "4  Mayur More, Jitendra Kumar, Ranjan Raj, Alam K...         India   \n",
       "5  Kate Siegel, Zach Gilford, Hamish Linklater, H...           NaN   \n",
       "\n",
       "           date_added  release_year rating   duration  \\\n",
       "1  September 24, 2021          2021  TV-MA  2 Seasons   \n",
       "2  September 24, 2021          2021  TV-MA   1 Season   \n",
       "3  September 24, 2021          2021  TV-MA   1 Season   \n",
       "4  September 24, 2021          2021  TV-MA  2 Seasons   \n",
       "5  September 24, 2021          2021  TV-MA   1 Season   \n",
       "\n",
       "                                           listed_in  \\\n",
       "1    International TV Shows, TV Dramas, TV Mysteries   \n",
       "2  Crime TV Shows, International TV Shows, TV Act...   \n",
       "3                             Docuseries, Reality TV   \n",
       "4  International TV Shows, Romantic TV Shows, TV ...   \n",
       "5                 TV Dramas, TV Horror, TV Mysteries   \n",
       "\n",
       "                                         description  \n",
       "1  After crossing paths at a party, a Cape Town t...  \n",
       "2  To protect his family from a powerful drug lor...  \n",
       "3  Feuds, flirtations and toilet talk go down amo...  \n",
       "4  In a city of coaching centers known to train I...  \n",
       "5  The arrival of a charismatic young priest brin...  "
      ]
     },
     "execution_count": 283,
     "metadata": {},
     "output_type": "execute_result"
    }
   ],
   "source": [
    "df_shows.head()"
   ]
  },
  {
   "cell_type": "code",
   "execution_count": 284,
   "metadata": {},
   "outputs": [],
   "source": [
    "df_shows.reset_index(inplace=True)"
   ]
  },
  {
   "cell_type": "code",
   "execution_count": 285,
   "metadata": {},
   "outputs": [
    {
     "data": {
      "text/plain": [
       "(2676, 13)"
      ]
     },
     "execution_count": 285,
     "metadata": {},
     "output_type": "execute_result"
    }
   ],
   "source": [
    "df_shows.shape"
   ]
  },
  {
   "cell_type": "code",
   "execution_count": 286,
   "metadata": {},
   "outputs": [
    {
     "name": "stdout",
     "output_type": "stream",
     "text": [
      "<class 'pandas.core.frame.DataFrame'>\n",
      "RangeIndex: 2676 entries, 0 to 2675\n",
      "Data columns (total 13 columns):\n",
      " #   Column        Non-Null Count  Dtype \n",
      "---  ------        --------------  ----- \n",
      " 0   index         2676 non-null   int64 \n",
      " 1   show_id       2676 non-null   object\n",
      " 2   type          2676 non-null   object\n",
      " 3   title         2676 non-null   object\n",
      " 4   director      230 non-null    object\n",
      " 5   cast          2326 non-null   object\n",
      " 6   country       2285 non-null   object\n",
      " 7   date_added    2666 non-null   object\n",
      " 8   release_year  2676 non-null   int64 \n",
      " 9   rating        2674 non-null   object\n",
      " 10  duration      2676 non-null   object\n",
      " 11  listed_in     2676 non-null   object\n",
      " 12  description   2676 non-null   object\n",
      "dtypes: int64(2), object(11)\n",
      "memory usage: 271.9+ KB\n"
     ]
    }
   ],
   "source": [
    "df_shows.info()"
   ]
  },
  {
   "cell_type": "code",
   "execution_count": 287,
   "metadata": {},
   "outputs": [
    {
     "data": {
      "text/plain": [
       "index            0.000000\n",
       "show_id          0.000000\n",
       "type             0.000000\n",
       "title            0.000000\n",
       "director        91.405082\n",
       "cast            13.079223\n",
       "country         14.611360\n",
       "date_added       0.373692\n",
       "release_year     0.000000\n",
       "rating           0.074738\n",
       "duration         0.000000\n",
       "listed_in        0.000000\n",
       "description      0.000000\n",
       "dtype: float64"
      ]
     },
     "execution_count": 287,
     "metadata": {},
     "output_type": "execute_result"
    }
   ],
   "source": [
    "(df_shows.isnull().sum() / df_shows.shape[0]) * 100"
   ]
  },
  {
   "attachments": {},
   "cell_type": "markdown",
   "metadata": {},
   "source": [
    "Here the director column is 90% empty. Hence imputing with some values will be irrelavent.\n",
    "Its better to drop this column"
   ]
  },
  {
   "cell_type": "code",
   "execution_count": 288,
   "metadata": {},
   "outputs": [],
   "source": [
    "df_shows.drop(columns='director',inplace=True)"
   ]
  },
  {
   "cell_type": "code",
   "execution_count": 289,
   "metadata": {},
   "outputs": [
    {
     "data": {
      "text/html": [
       "<div>\n",
       "<style scoped>\n",
       "    .dataframe tbody tr th:only-of-type {\n",
       "        vertical-align: middle;\n",
       "    }\n",
       "\n",
       "    .dataframe tbody tr th {\n",
       "        vertical-align: top;\n",
       "    }\n",
       "\n",
       "    .dataframe thead th {\n",
       "        text-align: right;\n",
       "    }\n",
       "</style>\n",
       "<table border=\"1\" class=\"dataframe\">\n",
       "  <thead>\n",
       "    <tr style=\"text-align: right;\">\n",
       "      <th></th>\n",
       "      <th>index</th>\n",
       "      <th>show_id</th>\n",
       "      <th>type</th>\n",
       "      <th>title</th>\n",
       "      <th>cast</th>\n",
       "      <th>country</th>\n",
       "      <th>date_added</th>\n",
       "      <th>release_year</th>\n",
       "      <th>rating</th>\n",
       "      <th>duration</th>\n",
       "      <th>listed_in</th>\n",
       "      <th>description</th>\n",
       "    </tr>\n",
       "  </thead>\n",
       "  <tbody>\n",
       "    <tr>\n",
       "      <th>0</th>\n",
       "      <td>1</td>\n",
       "      <td>s2</td>\n",
       "      <td>TV Show</td>\n",
       "      <td>Blood &amp; Water</td>\n",
       "      <td>Ama Qamata, Khosi Ngema, Gail Mabalane, Thaban...</td>\n",
       "      <td>South Africa</td>\n",
       "      <td>September 24, 2021</td>\n",
       "      <td>2021</td>\n",
       "      <td>TV-MA</td>\n",
       "      <td>2 Seasons</td>\n",
       "      <td>International TV Shows, TV Dramas, TV Mysteries</td>\n",
       "      <td>After crossing paths at a party, a Cape Town t...</td>\n",
       "    </tr>\n",
       "    <tr>\n",
       "      <th>1</th>\n",
       "      <td>2</td>\n",
       "      <td>s3</td>\n",
       "      <td>TV Show</td>\n",
       "      <td>Ganglands</td>\n",
       "      <td>Sami Bouajila, Tracy Gotoas, Samuel Jouy, Nabi...</td>\n",
       "      <td>NaN</td>\n",
       "      <td>September 24, 2021</td>\n",
       "      <td>2021</td>\n",
       "      <td>TV-MA</td>\n",
       "      <td>1 Season</td>\n",
       "      <td>Crime TV Shows, International TV Shows, TV Act...</td>\n",
       "      <td>To protect his family from a powerful drug lor...</td>\n",
       "    </tr>\n",
       "    <tr>\n",
       "      <th>2</th>\n",
       "      <td>3</td>\n",
       "      <td>s4</td>\n",
       "      <td>TV Show</td>\n",
       "      <td>Jailbirds New Orleans</td>\n",
       "      <td>NaN</td>\n",
       "      <td>NaN</td>\n",
       "      <td>September 24, 2021</td>\n",
       "      <td>2021</td>\n",
       "      <td>TV-MA</td>\n",
       "      <td>1 Season</td>\n",
       "      <td>Docuseries, Reality TV</td>\n",
       "      <td>Feuds, flirtations and toilet talk go down amo...</td>\n",
       "    </tr>\n",
       "    <tr>\n",
       "      <th>3</th>\n",
       "      <td>4</td>\n",
       "      <td>s5</td>\n",
       "      <td>TV Show</td>\n",
       "      <td>Kota Factory</td>\n",
       "      <td>Mayur More, Jitendra Kumar, Ranjan Raj, Alam K...</td>\n",
       "      <td>India</td>\n",
       "      <td>September 24, 2021</td>\n",
       "      <td>2021</td>\n",
       "      <td>TV-MA</td>\n",
       "      <td>2 Seasons</td>\n",
       "      <td>International TV Shows, Romantic TV Shows, TV ...</td>\n",
       "      <td>In a city of coaching centers known to train I...</td>\n",
       "    </tr>\n",
       "    <tr>\n",
       "      <th>4</th>\n",
       "      <td>5</td>\n",
       "      <td>s6</td>\n",
       "      <td>TV Show</td>\n",
       "      <td>Midnight Mass</td>\n",
       "      <td>Kate Siegel, Zach Gilford, Hamish Linklater, H...</td>\n",
       "      <td>NaN</td>\n",
       "      <td>September 24, 2021</td>\n",
       "      <td>2021</td>\n",
       "      <td>TV-MA</td>\n",
       "      <td>1 Season</td>\n",
       "      <td>TV Dramas, TV Horror, TV Mysteries</td>\n",
       "      <td>The arrival of a charismatic young priest brin...</td>\n",
       "    </tr>\n",
       "  </tbody>\n",
       "</table>\n",
       "</div>"
      ],
      "text/plain": [
       "   index show_id     type                  title  \\\n",
       "0      1      s2  TV Show          Blood & Water   \n",
       "1      2      s3  TV Show              Ganglands   \n",
       "2      3      s4  TV Show  Jailbirds New Orleans   \n",
       "3      4      s5  TV Show           Kota Factory   \n",
       "4      5      s6  TV Show          Midnight Mass   \n",
       "\n",
       "                                                cast       country  \\\n",
       "0  Ama Qamata, Khosi Ngema, Gail Mabalane, Thaban...  South Africa   \n",
       "1  Sami Bouajila, Tracy Gotoas, Samuel Jouy, Nabi...           NaN   \n",
       "2                                                NaN           NaN   \n",
       "3  Mayur More, Jitendra Kumar, Ranjan Raj, Alam K...         India   \n",
       "4  Kate Siegel, Zach Gilford, Hamish Linklater, H...           NaN   \n",
       "\n",
       "           date_added  release_year rating   duration  \\\n",
       "0  September 24, 2021          2021  TV-MA  2 Seasons   \n",
       "1  September 24, 2021          2021  TV-MA   1 Season   \n",
       "2  September 24, 2021          2021  TV-MA   1 Season   \n",
       "3  September 24, 2021          2021  TV-MA  2 Seasons   \n",
       "4  September 24, 2021          2021  TV-MA   1 Season   \n",
       "\n",
       "                                           listed_in  \\\n",
       "0    International TV Shows, TV Dramas, TV Mysteries   \n",
       "1  Crime TV Shows, International TV Shows, TV Act...   \n",
       "2                             Docuseries, Reality TV   \n",
       "3  International TV Shows, Romantic TV Shows, TV ...   \n",
       "4                 TV Dramas, TV Horror, TV Mysteries   \n",
       "\n",
       "                                         description  \n",
       "0  After crossing paths at a party, a Cape Town t...  \n",
       "1  To protect his family from a powerful drug lor...  \n",
       "2  Feuds, flirtations and toilet talk go down amo...  \n",
       "3  In a city of coaching centers known to train I...  \n",
       "4  The arrival of a charismatic young priest brin...  "
      ]
     },
     "execution_count": 289,
     "metadata": {},
     "output_type": "execute_result"
    }
   ],
   "source": [
    "df_shows.head()"
   ]
  },
  {
   "cell_type": "code",
   "execution_count": 290,
   "metadata": {},
   "outputs": [
    {
     "data": {
      "text/plain": [
       "2676"
      ]
     },
     "execution_count": 290,
     "metadata": {},
     "output_type": "execute_result"
    }
   ],
   "source": [
    "## Let us check how many unique tv shows are present\n",
    "\n",
    "df_shows['title'].nunique()"
   ]
  },
  {
   "cell_type": "code",
   "execution_count": 291,
   "metadata": {},
   "outputs": [
    {
     "data": {
      "text/plain": [
       "0       Ama Qamata, Khosi Ngema, Gail Mabalane, Thaban...\n",
       "1       Sami Bouajila, Tracy Gotoas, Samuel Jouy, Nabi...\n",
       "2                                                     NaN\n",
       "3       Mayur More, Jitendra Kumar, Ranjan Raj, Alam K...\n",
       "4       Kate Siegel, Zach Gilford, Hamish Linklater, H...\n",
       "                              ...                        \n",
       "2671    Mike Liscio, Emily Bauer, Billy Bob Thompson, ...\n",
       "2672    Gökhan Atalay, Payidar Tüfekçioglu, Baran Akbu...\n",
       "2673    Michael Johnston, Jessica Gee-George, Christin...\n",
       "2674    Sanam Saeed, Fawad Khan, Ayesha Omer, Mehreen ...\n",
       "2675                                                  NaN\n",
       "Name: cast, Length: 2676, dtype: object"
      ]
     },
     "execution_count": 291,
     "metadata": {},
     "output_type": "execute_result"
    }
   ],
   "source": [
    "df_shows['cast']"
   ]
  },
  {
   "cell_type": "code",
   "execution_count": 292,
   "metadata": {},
   "outputs": [
    {
     "data": {
      "text/plain": [
       "0                                        South Africa\n",
       "1                                                 NaN\n",
       "2                                                 NaN\n",
       "3                                               India\n",
       "4                                                 NaN\n",
       "                            ...                      \n",
       "2671                                    Japan, Canada\n",
       "2672                                           Turkey\n",
       "2673    United States, France, South Korea, Indonesia\n",
       "2674                                         Pakistan\n",
       "2675                                              NaN\n",
       "Name: country, Length: 2676, dtype: object"
      ]
     },
     "execution_count": 292,
     "metadata": {},
     "output_type": "execute_result"
    }
   ],
   "source": [
    "df_shows['country']"
   ]
  },
  {
   "cell_type": "code",
   "execution_count": 293,
   "metadata": {},
   "outputs": [
    {
     "data": {
      "text/plain": [
       "0       September 24, 2021\n",
       "1       September 24, 2021\n",
       "2       September 24, 2021\n",
       "3       September 24, 2021\n",
       "4       September 24, 2021\n",
       "               ...        \n",
       "2671           May 1, 2018\n",
       "2672      January 17, 2017\n",
       "2673    September 13, 2018\n",
       "2674     December 15, 2016\n",
       "2675          July 1, 2019\n",
       "Name: date_added, Length: 2676, dtype: object"
      ]
     },
     "execution_count": 293,
     "metadata": {},
     "output_type": "execute_result"
    }
   ],
   "source": [
    "df_shows['date_added']"
   ]
  },
  {
   "cell_type": "code",
   "execution_count": 294,
   "metadata": {},
   "outputs": [],
   "source": [
    "df_shows['date_added'] = pd.to_datetime(df_shows['date_added'], format='mixed')\n",
    "df_shows['date_added_year'] = df_shows['date_added'].dt.year\n",
    "df_shows['date_added_month'] = df_shows['date_added'].dt.month\n",
    "df_shows['date_added_dow'] = df_shows['date_added'].dt.day_of_week"
   ]
  },
  {
   "cell_type": "code",
   "execution_count": 295,
   "metadata": {},
   "outputs": [
    {
     "data": {
      "text/plain": [
       "0       4.0\n",
       "1       4.0\n",
       "2       4.0\n",
       "3       4.0\n",
       "4       4.0\n",
       "       ... \n",
       "2671    1.0\n",
       "2672    1.0\n",
       "2673    3.0\n",
       "2674    3.0\n",
       "2675    0.0\n",
       "Name: date_added, Length: 2676, dtype: float64"
      ]
     },
     "execution_count": 295,
     "metadata": {},
     "output_type": "execute_result"
    }
   ],
   "source": [
    "pd.to_datetime(df_shows['date_added'], format='mixed').dt.day_of_week"
   ]
  },
  {
   "cell_type": "code",
   "execution_count": 296,
   "metadata": {},
   "outputs": [
    {
     "data": {
      "text/html": [
       "<div>\n",
       "<style scoped>\n",
       "    .dataframe tbody tr th:only-of-type {\n",
       "        vertical-align: middle;\n",
       "    }\n",
       "\n",
       "    .dataframe tbody tr th {\n",
       "        vertical-align: top;\n",
       "    }\n",
       "\n",
       "    .dataframe thead th {\n",
       "        text-align: right;\n",
       "    }\n",
       "</style>\n",
       "<table border=\"1\" class=\"dataframe\">\n",
       "  <thead>\n",
       "    <tr style=\"text-align: right;\">\n",
       "      <th></th>\n",
       "      <th>index</th>\n",
       "      <th>show_id</th>\n",
       "      <th>type</th>\n",
       "      <th>title</th>\n",
       "      <th>cast</th>\n",
       "      <th>country</th>\n",
       "      <th>date_added</th>\n",
       "      <th>release_year</th>\n",
       "      <th>rating</th>\n",
       "      <th>duration</th>\n",
       "      <th>listed_in</th>\n",
       "      <th>description</th>\n",
       "      <th>date_added_year</th>\n",
       "      <th>date_added_month</th>\n",
       "      <th>date_added_dow</th>\n",
       "    </tr>\n",
       "  </thead>\n",
       "  <tbody>\n",
       "    <tr>\n",
       "      <th>0</th>\n",
       "      <td>1</td>\n",
       "      <td>s2</td>\n",
       "      <td>TV Show</td>\n",
       "      <td>Blood &amp; Water</td>\n",
       "      <td>Ama Qamata, Khosi Ngema, Gail Mabalane, Thaban...</td>\n",
       "      <td>South Africa</td>\n",
       "      <td>2021-09-24</td>\n",
       "      <td>2021</td>\n",
       "      <td>TV-MA</td>\n",
       "      <td>2 Seasons</td>\n",
       "      <td>International TV Shows, TV Dramas, TV Mysteries</td>\n",
       "      <td>After crossing paths at a party, a Cape Town t...</td>\n",
       "      <td>2021.0</td>\n",
       "      <td>9.0</td>\n",
       "      <td>4.0</td>\n",
       "    </tr>\n",
       "    <tr>\n",
       "      <th>1</th>\n",
       "      <td>2</td>\n",
       "      <td>s3</td>\n",
       "      <td>TV Show</td>\n",
       "      <td>Ganglands</td>\n",
       "      <td>Sami Bouajila, Tracy Gotoas, Samuel Jouy, Nabi...</td>\n",
       "      <td>NaN</td>\n",
       "      <td>2021-09-24</td>\n",
       "      <td>2021</td>\n",
       "      <td>TV-MA</td>\n",
       "      <td>1 Season</td>\n",
       "      <td>Crime TV Shows, International TV Shows, TV Act...</td>\n",
       "      <td>To protect his family from a powerful drug lor...</td>\n",
       "      <td>2021.0</td>\n",
       "      <td>9.0</td>\n",
       "      <td>4.0</td>\n",
       "    </tr>\n",
       "    <tr>\n",
       "      <th>2</th>\n",
       "      <td>3</td>\n",
       "      <td>s4</td>\n",
       "      <td>TV Show</td>\n",
       "      <td>Jailbirds New Orleans</td>\n",
       "      <td>NaN</td>\n",
       "      <td>NaN</td>\n",
       "      <td>2021-09-24</td>\n",
       "      <td>2021</td>\n",
       "      <td>TV-MA</td>\n",
       "      <td>1 Season</td>\n",
       "      <td>Docuseries, Reality TV</td>\n",
       "      <td>Feuds, flirtations and toilet talk go down amo...</td>\n",
       "      <td>2021.0</td>\n",
       "      <td>9.0</td>\n",
       "      <td>4.0</td>\n",
       "    </tr>\n",
       "    <tr>\n",
       "      <th>3</th>\n",
       "      <td>4</td>\n",
       "      <td>s5</td>\n",
       "      <td>TV Show</td>\n",
       "      <td>Kota Factory</td>\n",
       "      <td>Mayur More, Jitendra Kumar, Ranjan Raj, Alam K...</td>\n",
       "      <td>India</td>\n",
       "      <td>2021-09-24</td>\n",
       "      <td>2021</td>\n",
       "      <td>TV-MA</td>\n",
       "      <td>2 Seasons</td>\n",
       "      <td>International TV Shows, Romantic TV Shows, TV ...</td>\n",
       "      <td>In a city of coaching centers known to train I...</td>\n",
       "      <td>2021.0</td>\n",
       "      <td>9.0</td>\n",
       "      <td>4.0</td>\n",
       "    </tr>\n",
       "    <tr>\n",
       "      <th>4</th>\n",
       "      <td>5</td>\n",
       "      <td>s6</td>\n",
       "      <td>TV Show</td>\n",
       "      <td>Midnight Mass</td>\n",
       "      <td>Kate Siegel, Zach Gilford, Hamish Linklater, H...</td>\n",
       "      <td>NaN</td>\n",
       "      <td>2021-09-24</td>\n",
       "      <td>2021</td>\n",
       "      <td>TV-MA</td>\n",
       "      <td>1 Season</td>\n",
       "      <td>TV Dramas, TV Horror, TV Mysteries</td>\n",
       "      <td>The arrival of a charismatic young priest brin...</td>\n",
       "      <td>2021.0</td>\n",
       "      <td>9.0</td>\n",
       "      <td>4.0</td>\n",
       "    </tr>\n",
       "    <tr>\n",
       "      <th>...</th>\n",
       "      <td>...</td>\n",
       "      <td>...</td>\n",
       "      <td>...</td>\n",
       "      <td>...</td>\n",
       "      <td>...</td>\n",
       "      <td>...</td>\n",
       "      <td>...</td>\n",
       "      <td>...</td>\n",
       "      <td>...</td>\n",
       "      <td>...</td>\n",
       "      <td>...</td>\n",
       "      <td>...</td>\n",
       "      <td>...</td>\n",
       "      <td>...</td>\n",
       "      <td>...</td>\n",
       "    </tr>\n",
       "    <tr>\n",
       "      <th>2671</th>\n",
       "      <td>8795</td>\n",
       "      <td>s8796</td>\n",
       "      <td>TV Show</td>\n",
       "      <td>Yu-Gi-Oh! Arc-V</td>\n",
       "      <td>Mike Liscio, Emily Bauer, Billy Bob Thompson, ...</td>\n",
       "      <td>Japan, Canada</td>\n",
       "      <td>2018-05-01</td>\n",
       "      <td>2015</td>\n",
       "      <td>TV-Y7</td>\n",
       "      <td>2 Seasons</td>\n",
       "      <td>Anime Series, Kids' TV</td>\n",
       "      <td>Now that he's discovered the Pendulum Summonin...</td>\n",
       "      <td>2018.0</td>\n",
       "      <td>5.0</td>\n",
       "      <td>1.0</td>\n",
       "    </tr>\n",
       "    <tr>\n",
       "      <th>2672</th>\n",
       "      <td>8796</td>\n",
       "      <td>s8797</td>\n",
       "      <td>TV Show</td>\n",
       "      <td>Yunus Emre</td>\n",
       "      <td>Gökhan Atalay, Payidar Tüfekçioglu, Baran Akbu...</td>\n",
       "      <td>Turkey</td>\n",
       "      <td>2017-01-17</td>\n",
       "      <td>2016</td>\n",
       "      <td>TV-PG</td>\n",
       "      <td>2 Seasons</td>\n",
       "      <td>International TV Shows, TV Dramas</td>\n",
       "      <td>During the Mongol invasions, Yunus Emre leaves...</td>\n",
       "      <td>2017.0</td>\n",
       "      <td>1.0</td>\n",
       "      <td>1.0</td>\n",
       "    </tr>\n",
       "    <tr>\n",
       "      <th>2673</th>\n",
       "      <td>8797</td>\n",
       "      <td>s8798</td>\n",
       "      <td>TV Show</td>\n",
       "      <td>Zak Storm</td>\n",
       "      <td>Michael Johnston, Jessica Gee-George, Christin...</td>\n",
       "      <td>United States, France, South Korea, Indonesia</td>\n",
       "      <td>2018-09-13</td>\n",
       "      <td>2016</td>\n",
       "      <td>TV-Y7</td>\n",
       "      <td>3 Seasons</td>\n",
       "      <td>Kids' TV</td>\n",
       "      <td>Teen surfer Zak Storm is mysteriously transpor...</td>\n",
       "      <td>2018.0</td>\n",
       "      <td>9.0</td>\n",
       "      <td>3.0</td>\n",
       "    </tr>\n",
       "    <tr>\n",
       "      <th>2674</th>\n",
       "      <td>8800</td>\n",
       "      <td>s8801</td>\n",
       "      <td>TV Show</td>\n",
       "      <td>Zindagi Gulzar Hai</td>\n",
       "      <td>Sanam Saeed, Fawad Khan, Ayesha Omer, Mehreen ...</td>\n",
       "      <td>Pakistan</td>\n",
       "      <td>2016-12-15</td>\n",
       "      <td>2012</td>\n",
       "      <td>TV-PG</td>\n",
       "      <td>1 Season</td>\n",
       "      <td>International TV Shows, Romantic TV Shows, TV ...</td>\n",
       "      <td>Strong-willed, middle-class Kashaf and carefre...</td>\n",
       "      <td>2016.0</td>\n",
       "      <td>12.0</td>\n",
       "      <td>3.0</td>\n",
       "    </tr>\n",
       "    <tr>\n",
       "      <th>2675</th>\n",
       "      <td>8803</td>\n",
       "      <td>s8804</td>\n",
       "      <td>TV Show</td>\n",
       "      <td>Zombie Dumb</td>\n",
       "      <td>NaN</td>\n",
       "      <td>NaN</td>\n",
       "      <td>2019-07-01</td>\n",
       "      <td>2018</td>\n",
       "      <td>TV-Y7</td>\n",
       "      <td>2 Seasons</td>\n",
       "      <td>Kids' TV, Korean TV Shows, TV Comedies</td>\n",
       "      <td>While living alone in a spooky town, a young g...</td>\n",
       "      <td>2019.0</td>\n",
       "      <td>7.0</td>\n",
       "      <td>0.0</td>\n",
       "    </tr>\n",
       "  </tbody>\n",
       "</table>\n",
       "<p>2676 rows × 15 columns</p>\n",
       "</div>"
      ],
      "text/plain": [
       "      index show_id     type                  title  \\\n",
       "0         1      s2  TV Show          Blood & Water   \n",
       "1         2      s3  TV Show              Ganglands   \n",
       "2         3      s4  TV Show  Jailbirds New Orleans   \n",
       "3         4      s5  TV Show           Kota Factory   \n",
       "4         5      s6  TV Show          Midnight Mass   \n",
       "...     ...     ...      ...                    ...   \n",
       "2671   8795   s8796  TV Show        Yu-Gi-Oh! Arc-V   \n",
       "2672   8796   s8797  TV Show             Yunus Emre   \n",
       "2673   8797   s8798  TV Show              Zak Storm   \n",
       "2674   8800   s8801  TV Show     Zindagi Gulzar Hai   \n",
       "2675   8803   s8804  TV Show            Zombie Dumb   \n",
       "\n",
       "                                                   cast  \\\n",
       "0     Ama Qamata, Khosi Ngema, Gail Mabalane, Thaban...   \n",
       "1     Sami Bouajila, Tracy Gotoas, Samuel Jouy, Nabi...   \n",
       "2                                                   NaN   \n",
       "3     Mayur More, Jitendra Kumar, Ranjan Raj, Alam K...   \n",
       "4     Kate Siegel, Zach Gilford, Hamish Linklater, H...   \n",
       "...                                                 ...   \n",
       "2671  Mike Liscio, Emily Bauer, Billy Bob Thompson, ...   \n",
       "2672  Gökhan Atalay, Payidar Tüfekçioglu, Baran Akbu...   \n",
       "2673  Michael Johnston, Jessica Gee-George, Christin...   \n",
       "2674  Sanam Saeed, Fawad Khan, Ayesha Omer, Mehreen ...   \n",
       "2675                                                NaN   \n",
       "\n",
       "                                            country date_added  release_year  \\\n",
       "0                                      South Africa 2021-09-24          2021   \n",
       "1                                               NaN 2021-09-24          2021   \n",
       "2                                               NaN 2021-09-24          2021   \n",
       "3                                             India 2021-09-24          2021   \n",
       "4                                               NaN 2021-09-24          2021   \n",
       "...                                             ...        ...           ...   \n",
       "2671                                  Japan, Canada 2018-05-01          2015   \n",
       "2672                                         Turkey 2017-01-17          2016   \n",
       "2673  United States, France, South Korea, Indonesia 2018-09-13          2016   \n",
       "2674                                       Pakistan 2016-12-15          2012   \n",
       "2675                                            NaN 2019-07-01          2018   \n",
       "\n",
       "     rating   duration                                          listed_in  \\\n",
       "0     TV-MA  2 Seasons    International TV Shows, TV Dramas, TV Mysteries   \n",
       "1     TV-MA   1 Season  Crime TV Shows, International TV Shows, TV Act...   \n",
       "2     TV-MA   1 Season                             Docuseries, Reality TV   \n",
       "3     TV-MA  2 Seasons  International TV Shows, Romantic TV Shows, TV ...   \n",
       "4     TV-MA   1 Season                 TV Dramas, TV Horror, TV Mysteries   \n",
       "...     ...        ...                                                ...   \n",
       "2671  TV-Y7  2 Seasons                             Anime Series, Kids' TV   \n",
       "2672  TV-PG  2 Seasons                  International TV Shows, TV Dramas   \n",
       "2673  TV-Y7  3 Seasons                                           Kids' TV   \n",
       "2674  TV-PG   1 Season  International TV Shows, Romantic TV Shows, TV ...   \n",
       "2675  TV-Y7  2 Seasons             Kids' TV, Korean TV Shows, TV Comedies   \n",
       "\n",
       "                                            description  date_added_year  \\\n",
       "0     After crossing paths at a party, a Cape Town t...           2021.0   \n",
       "1     To protect his family from a powerful drug lor...           2021.0   \n",
       "2     Feuds, flirtations and toilet talk go down amo...           2021.0   \n",
       "3     In a city of coaching centers known to train I...           2021.0   \n",
       "4     The arrival of a charismatic young priest brin...           2021.0   \n",
       "...                                                 ...              ...   \n",
       "2671  Now that he's discovered the Pendulum Summonin...           2018.0   \n",
       "2672  During the Mongol invasions, Yunus Emre leaves...           2017.0   \n",
       "2673  Teen surfer Zak Storm is mysteriously transpor...           2018.0   \n",
       "2674  Strong-willed, middle-class Kashaf and carefre...           2016.0   \n",
       "2675  While living alone in a spooky town, a young g...           2019.0   \n",
       "\n",
       "      date_added_month  date_added_dow  \n",
       "0                  9.0             4.0  \n",
       "1                  9.0             4.0  \n",
       "2                  9.0             4.0  \n",
       "3                  9.0             4.0  \n",
       "4                  9.0             4.0  \n",
       "...                ...             ...  \n",
       "2671               5.0             1.0  \n",
       "2672               1.0             1.0  \n",
       "2673               9.0             3.0  \n",
       "2674              12.0             3.0  \n",
       "2675               7.0             0.0  \n",
       "\n",
       "[2676 rows x 15 columns]"
      ]
     },
     "execution_count": 296,
     "metadata": {},
     "output_type": "execute_result"
    }
   ],
   "source": [
    "df_shows"
   ]
  },
  {
   "cell_type": "code",
   "execution_count": 297,
   "metadata": {},
   "outputs": [
    {
     "data": {
      "text/plain": [
       "index                 0\n",
       "show_id               0\n",
       "type                  0\n",
       "title                 0\n",
       "cast                350\n",
       "country             391\n",
       "date_added           10\n",
       "release_year          0\n",
       "rating                2\n",
       "duration              0\n",
       "listed_in             0\n",
       "description           0\n",
       "date_added_year      10\n",
       "date_added_month     10\n",
       "date_added_dow       10\n",
       "dtype: int64"
      ]
     },
     "execution_count": 297,
     "metadata": {},
     "output_type": "execute_result"
    }
   ],
   "source": [
    "df_shows.isnull().sum()"
   ]
  },
  {
   "attachments": {},
   "cell_type": "markdown",
   "metadata": {},
   "source": [
    "### Lets us now change the cast into type list and then explode the dataframe on that. We will do the same for the column country and lisited_in. Eventually for the rows which still has nulls, we will drop them. "
   ]
  },
  {
   "cell_type": "code",
   "execution_count": 298,
   "metadata": {},
   "outputs": [
    {
     "data": {
      "text/plain": [
       "'Ama Qamata, Khosi Ngema, Gail Mabalane, Thabang Molaba, Dillon Windvogel, Natasha Thahane, Arno Greeff, Xolile Tshabalala, Getmore Sithole, Cindy Mahlangu, Ryle De Morny, Greteli Fincham, Sello Maake Ka-Ncube, Odwa Gwanya, Mekaila Mathys, Sandi Schultz, Duane Williams, Shamilla Miller, Patrick Mofokeng'"
      ]
     },
     "execution_count": 298,
     "metadata": {},
     "output_type": "execute_result"
    }
   ],
   "source": [
    "df_shows['cast'][0]"
   ]
  },
  {
   "cell_type": "code",
   "execution_count": 299,
   "metadata": {},
   "outputs": [
    {
     "data": {
      "text/plain": [
       "350"
      ]
     },
     "execution_count": 299,
     "metadata": {},
     "output_type": "execute_result"
    }
   ],
   "source": [
    "df_shows['cast'].isnull().sum()"
   ]
  },
  {
   "attachments": {},
   "cell_type": "markdown",
   "metadata": {},
   "source": [
    "### Let us drop all those rows which has null"
   ]
  },
  {
   "cell_type": "code",
   "execution_count": 300,
   "metadata": {},
   "outputs": [],
   "source": [
    "df_shows_nonna = df_shows.dropna(axis=0)"
   ]
  },
  {
   "cell_type": "code",
   "execution_count": 301,
   "metadata": {},
   "outputs": [
    {
     "data": {
      "text/plain": [
       "index               0\n",
       "show_id             0\n",
       "type                0\n",
       "title               0\n",
       "cast                0\n",
       "country             0\n",
       "date_added          0\n",
       "release_year        0\n",
       "rating              0\n",
       "duration            0\n",
       "listed_in           0\n",
       "description         0\n",
       "date_added_year     0\n",
       "date_added_month    0\n",
       "date_added_dow      0\n",
       "dtype: int64"
      ]
     },
     "execution_count": 301,
     "metadata": {},
     "output_type": "execute_result"
    }
   ],
   "source": [
    "df_shows_nonna.isnull().sum()"
   ]
  },
  {
   "cell_type": "code",
   "execution_count": 302,
   "metadata": {},
   "outputs": [],
   "source": [
    "df_shows_nonna['cast'] = df_shows_nonna['cast'].apply(lambda x: x.lower().split(', '))\n",
    "df_shows_nonna['country'] = df_shows_nonna['country'].apply(lambda x: x.lower().split(', '))\n",
    "df_shows_nonna['listed_in'] = df_shows_nonna['listed_in'].apply(lambda x: x.lower().split(', '))"
   ]
  },
  {
   "cell_type": "code",
   "execution_count": 303,
   "metadata": {},
   "outputs": [],
   "source": [
    "df_shows_nonna = df_shows_nonna.explode(column=['listed_in'])"
   ]
  },
  {
   "cell_type": "code",
   "execution_count": 304,
   "metadata": {},
   "outputs": [],
   "source": [
    "df_shows_nonna = df_shows_nonna.explode(column=['cast'])\n",
    "df_shows_nonna = df_shows_nonna.explode(column=['country'])"
   ]
  },
  {
   "cell_type": "code",
   "execution_count": 305,
   "metadata": {},
   "outputs": [
    {
     "data": {
      "text/html": [
       "<div>\n",
       "<style scoped>\n",
       "    .dataframe tbody tr th:only-of-type {\n",
       "        vertical-align: middle;\n",
       "    }\n",
       "\n",
       "    .dataframe tbody tr th {\n",
       "        vertical-align: top;\n",
       "    }\n",
       "\n",
       "    .dataframe thead th {\n",
       "        text-align: right;\n",
       "    }\n",
       "</style>\n",
       "<table border=\"1\" class=\"dataframe\">\n",
       "  <thead>\n",
       "    <tr style=\"text-align: right;\">\n",
       "      <th></th>\n",
       "      <th>index</th>\n",
       "      <th>show_id</th>\n",
       "      <th>type</th>\n",
       "      <th>title</th>\n",
       "      <th>cast</th>\n",
       "      <th>country</th>\n",
       "      <th>date_added</th>\n",
       "      <th>release_year</th>\n",
       "      <th>rating</th>\n",
       "      <th>duration</th>\n",
       "      <th>listed_in</th>\n",
       "      <th>description</th>\n",
       "      <th>date_added_year</th>\n",
       "      <th>date_added_month</th>\n",
       "      <th>date_added_dow</th>\n",
       "    </tr>\n",
       "  </thead>\n",
       "  <tbody>\n",
       "    <tr>\n",
       "      <th>0</th>\n",
       "      <td>1</td>\n",
       "      <td>s2</td>\n",
       "      <td>TV Show</td>\n",
       "      <td>Blood &amp; Water</td>\n",
       "      <td>ama qamata</td>\n",
       "      <td>south africa</td>\n",
       "      <td>2021-09-24</td>\n",
       "      <td>2021</td>\n",
       "      <td>TV-MA</td>\n",
       "      <td>2 Seasons</td>\n",
       "      <td>international tv shows</td>\n",
       "      <td>After crossing paths at a party, a Cape Town t...</td>\n",
       "      <td>2021.0</td>\n",
       "      <td>9.0</td>\n",
       "      <td>4.0</td>\n",
       "    </tr>\n",
       "    <tr>\n",
       "      <th>0</th>\n",
       "      <td>1</td>\n",
       "      <td>s2</td>\n",
       "      <td>TV Show</td>\n",
       "      <td>Blood &amp; Water</td>\n",
       "      <td>khosi ngema</td>\n",
       "      <td>south africa</td>\n",
       "      <td>2021-09-24</td>\n",
       "      <td>2021</td>\n",
       "      <td>TV-MA</td>\n",
       "      <td>2 Seasons</td>\n",
       "      <td>international tv shows</td>\n",
       "      <td>After crossing paths at a party, a Cape Town t...</td>\n",
       "      <td>2021.0</td>\n",
       "      <td>9.0</td>\n",
       "      <td>4.0</td>\n",
       "    </tr>\n",
       "    <tr>\n",
       "      <th>0</th>\n",
       "      <td>1</td>\n",
       "      <td>s2</td>\n",
       "      <td>TV Show</td>\n",
       "      <td>Blood &amp; Water</td>\n",
       "      <td>gail mabalane</td>\n",
       "      <td>south africa</td>\n",
       "      <td>2021-09-24</td>\n",
       "      <td>2021</td>\n",
       "      <td>TV-MA</td>\n",
       "      <td>2 Seasons</td>\n",
       "      <td>international tv shows</td>\n",
       "      <td>After crossing paths at a party, a Cape Town t...</td>\n",
       "      <td>2021.0</td>\n",
       "      <td>9.0</td>\n",
       "      <td>4.0</td>\n",
       "    </tr>\n",
       "    <tr>\n",
       "      <th>0</th>\n",
       "      <td>1</td>\n",
       "      <td>s2</td>\n",
       "      <td>TV Show</td>\n",
       "      <td>Blood &amp; Water</td>\n",
       "      <td>thabang molaba</td>\n",
       "      <td>south africa</td>\n",
       "      <td>2021-09-24</td>\n",
       "      <td>2021</td>\n",
       "      <td>TV-MA</td>\n",
       "      <td>2 Seasons</td>\n",
       "      <td>international tv shows</td>\n",
       "      <td>After crossing paths at a party, a Cape Town t...</td>\n",
       "      <td>2021.0</td>\n",
       "      <td>9.0</td>\n",
       "      <td>4.0</td>\n",
       "    </tr>\n",
       "    <tr>\n",
       "      <th>0</th>\n",
       "      <td>1</td>\n",
       "      <td>s2</td>\n",
       "      <td>TV Show</td>\n",
       "      <td>Blood &amp; Water</td>\n",
       "      <td>dillon windvogel</td>\n",
       "      <td>south africa</td>\n",
       "      <td>2021-09-24</td>\n",
       "      <td>2021</td>\n",
       "      <td>TV-MA</td>\n",
       "      <td>2 Seasons</td>\n",
       "      <td>international tv shows</td>\n",
       "      <td>After crossing paths at a party, a Cape Town t...</td>\n",
       "      <td>2021.0</td>\n",
       "      <td>9.0</td>\n",
       "      <td>4.0</td>\n",
       "    </tr>\n",
       "    <tr>\n",
       "      <th>...</th>\n",
       "      <td>...</td>\n",
       "      <td>...</td>\n",
       "      <td>...</td>\n",
       "      <td>...</td>\n",
       "      <td>...</td>\n",
       "      <td>...</td>\n",
       "      <td>...</td>\n",
       "      <td>...</td>\n",
       "      <td>...</td>\n",
       "      <td>...</td>\n",
       "      <td>...</td>\n",
       "      <td>...</td>\n",
       "      <td>...</td>\n",
       "      <td>...</td>\n",
       "      <td>...</td>\n",
       "    </tr>\n",
       "    <tr>\n",
       "      <th>2674</th>\n",
       "      <td>8800</td>\n",
       "      <td>s8801</td>\n",
       "      <td>TV Show</td>\n",
       "      <td>Zindagi Gulzar Hai</td>\n",
       "      <td>sheheryar munawar</td>\n",
       "      <td>pakistan</td>\n",
       "      <td>2016-12-15</td>\n",
       "      <td>2012</td>\n",
       "      <td>TV-PG</td>\n",
       "      <td>1 Season</td>\n",
       "      <td>tv dramas</td>\n",
       "      <td>Strong-willed, middle-class Kashaf and carefre...</td>\n",
       "      <td>2016.0</td>\n",
       "      <td>12.0</td>\n",
       "      <td>3.0</td>\n",
       "    </tr>\n",
       "    <tr>\n",
       "      <th>2674</th>\n",
       "      <td>8800</td>\n",
       "      <td>s8801</td>\n",
       "      <td>TV Show</td>\n",
       "      <td>Zindagi Gulzar Hai</td>\n",
       "      <td>samina peerzada</td>\n",
       "      <td>pakistan</td>\n",
       "      <td>2016-12-15</td>\n",
       "      <td>2012</td>\n",
       "      <td>TV-PG</td>\n",
       "      <td>1 Season</td>\n",
       "      <td>tv dramas</td>\n",
       "      <td>Strong-willed, middle-class Kashaf and carefre...</td>\n",
       "      <td>2016.0</td>\n",
       "      <td>12.0</td>\n",
       "      <td>3.0</td>\n",
       "    </tr>\n",
       "    <tr>\n",
       "      <th>2674</th>\n",
       "      <td>8800</td>\n",
       "      <td>s8801</td>\n",
       "      <td>TV Show</td>\n",
       "      <td>Zindagi Gulzar Hai</td>\n",
       "      <td>waseem abbas</td>\n",
       "      <td>pakistan</td>\n",
       "      <td>2016-12-15</td>\n",
       "      <td>2012</td>\n",
       "      <td>TV-PG</td>\n",
       "      <td>1 Season</td>\n",
       "      <td>tv dramas</td>\n",
       "      <td>Strong-willed, middle-class Kashaf and carefre...</td>\n",
       "      <td>2016.0</td>\n",
       "      <td>12.0</td>\n",
       "      <td>3.0</td>\n",
       "    </tr>\n",
       "    <tr>\n",
       "      <th>2674</th>\n",
       "      <td>8800</td>\n",
       "      <td>s8801</td>\n",
       "      <td>TV Show</td>\n",
       "      <td>Zindagi Gulzar Hai</td>\n",
       "      <td>javed sheikh</td>\n",
       "      <td>pakistan</td>\n",
       "      <td>2016-12-15</td>\n",
       "      <td>2012</td>\n",
       "      <td>TV-PG</td>\n",
       "      <td>1 Season</td>\n",
       "      <td>tv dramas</td>\n",
       "      <td>Strong-willed, middle-class Kashaf and carefre...</td>\n",
       "      <td>2016.0</td>\n",
       "      <td>12.0</td>\n",
       "      <td>3.0</td>\n",
       "    </tr>\n",
       "    <tr>\n",
       "      <th>2674</th>\n",
       "      <td>8800</td>\n",
       "      <td>s8801</td>\n",
       "      <td>TV Show</td>\n",
       "      <td>Zindagi Gulzar Hai</td>\n",
       "      <td>hina khawaja bayat</td>\n",
       "      <td>pakistan</td>\n",
       "      <td>2016-12-15</td>\n",
       "      <td>2012</td>\n",
       "      <td>TV-PG</td>\n",
       "      <td>1 Season</td>\n",
       "      <td>tv dramas</td>\n",
       "      <td>Strong-willed, middle-class Kashaf and carefre...</td>\n",
       "      <td>2016.0</td>\n",
       "      <td>12.0</td>\n",
       "      <td>3.0</td>\n",
       "    </tr>\n",
       "  </tbody>\n",
       "</table>\n",
       "<p>48237 rows × 15 columns</p>\n",
       "</div>"
      ],
      "text/plain": [
       "      index show_id     type               title                cast  \\\n",
       "0         1      s2  TV Show       Blood & Water          ama qamata   \n",
       "0         1      s2  TV Show       Blood & Water         khosi ngema   \n",
       "0         1      s2  TV Show       Blood & Water       gail mabalane   \n",
       "0         1      s2  TV Show       Blood & Water      thabang molaba   \n",
       "0         1      s2  TV Show       Blood & Water    dillon windvogel   \n",
       "...     ...     ...      ...                 ...                 ...   \n",
       "2674   8800   s8801  TV Show  Zindagi Gulzar Hai   sheheryar munawar   \n",
       "2674   8800   s8801  TV Show  Zindagi Gulzar Hai     samina peerzada   \n",
       "2674   8800   s8801  TV Show  Zindagi Gulzar Hai        waseem abbas   \n",
       "2674   8800   s8801  TV Show  Zindagi Gulzar Hai        javed sheikh   \n",
       "2674   8800   s8801  TV Show  Zindagi Gulzar Hai  hina khawaja bayat   \n",
       "\n",
       "           country date_added  release_year rating   duration  \\\n",
       "0     south africa 2021-09-24          2021  TV-MA  2 Seasons   \n",
       "0     south africa 2021-09-24          2021  TV-MA  2 Seasons   \n",
       "0     south africa 2021-09-24          2021  TV-MA  2 Seasons   \n",
       "0     south africa 2021-09-24          2021  TV-MA  2 Seasons   \n",
       "0     south africa 2021-09-24          2021  TV-MA  2 Seasons   \n",
       "...            ...        ...           ...    ...        ...   \n",
       "2674      pakistan 2016-12-15          2012  TV-PG   1 Season   \n",
       "2674      pakistan 2016-12-15          2012  TV-PG   1 Season   \n",
       "2674      pakistan 2016-12-15          2012  TV-PG   1 Season   \n",
       "2674      pakistan 2016-12-15          2012  TV-PG   1 Season   \n",
       "2674      pakistan 2016-12-15          2012  TV-PG   1 Season   \n",
       "\n",
       "                   listed_in  \\\n",
       "0     international tv shows   \n",
       "0     international tv shows   \n",
       "0     international tv shows   \n",
       "0     international tv shows   \n",
       "0     international tv shows   \n",
       "...                      ...   \n",
       "2674               tv dramas   \n",
       "2674               tv dramas   \n",
       "2674               tv dramas   \n",
       "2674               tv dramas   \n",
       "2674               tv dramas   \n",
       "\n",
       "                                            description  date_added_year  \\\n",
       "0     After crossing paths at a party, a Cape Town t...           2021.0   \n",
       "0     After crossing paths at a party, a Cape Town t...           2021.0   \n",
       "0     After crossing paths at a party, a Cape Town t...           2021.0   \n",
       "0     After crossing paths at a party, a Cape Town t...           2021.0   \n",
       "0     After crossing paths at a party, a Cape Town t...           2021.0   \n",
       "...                                                 ...              ...   \n",
       "2674  Strong-willed, middle-class Kashaf and carefre...           2016.0   \n",
       "2674  Strong-willed, middle-class Kashaf and carefre...           2016.0   \n",
       "2674  Strong-willed, middle-class Kashaf and carefre...           2016.0   \n",
       "2674  Strong-willed, middle-class Kashaf and carefre...           2016.0   \n",
       "2674  Strong-willed, middle-class Kashaf and carefre...           2016.0   \n",
       "\n",
       "      date_added_month  date_added_dow  \n",
       "0                  9.0             4.0  \n",
       "0                  9.0             4.0  \n",
       "0                  9.0             4.0  \n",
       "0                  9.0             4.0  \n",
       "0                  9.0             4.0  \n",
       "...                ...             ...  \n",
       "2674              12.0             3.0  \n",
       "2674              12.0             3.0  \n",
       "2674              12.0             3.0  \n",
       "2674              12.0             3.0  \n",
       "2674              12.0             3.0  \n",
       "\n",
       "[48237 rows x 15 columns]"
      ]
     },
     "execution_count": 305,
     "metadata": {},
     "output_type": "execute_result"
    }
   ],
   "source": [
    "df_shows_nonna"
   ]
  },
  {
   "cell_type": "code",
   "execution_count": 306,
   "metadata": {},
   "outputs": [
    {
     "data": {
      "text/plain": [
       "array(['2 Seasons', '9 Seasons', '4 Seasons', '5 Seasons', '3 Seasons',\n",
       "       '1 Season', '6 Seasons', '7 Seasons', '10 Seasons', '8 Seasons',\n",
       "       '17 Seasons', '13 Seasons', '15 Seasons', '12 Seasons',\n",
       "       '11 Seasons'], dtype=object)"
      ]
     },
     "execution_count": 306,
     "metadata": {},
     "output_type": "execute_result"
    }
   ],
   "source": [
    "df_shows_nonna['duration'].unique()"
   ]
  },
  {
   "attachments": {},
   "cell_type": "markdown",
   "metadata": {},
   "source": [
    "## Lets do some visualization"
   ]
  },
  {
   "cell_type": "code",
   "execution_count": 307,
   "metadata": {},
   "outputs": [
    {
     "data": {
      "text/html": [
       "<div>\n",
       "<style scoped>\n",
       "    .dataframe tbody tr th:only-of-type {\n",
       "        vertical-align: middle;\n",
       "    }\n",
       "\n",
       "    .dataframe tbody tr th {\n",
       "        vertical-align: top;\n",
       "    }\n",
       "\n",
       "    .dataframe thead th {\n",
       "        text-align: right;\n",
       "    }\n",
       "</style>\n",
       "<table border=\"1\" class=\"dataframe\">\n",
       "  <thead>\n",
       "    <tr style=\"text-align: right;\">\n",
       "      <th></th>\n",
       "      <th>index</th>\n",
       "      <th>show_id</th>\n",
       "      <th>type</th>\n",
       "      <th>title</th>\n",
       "      <th>cast</th>\n",
       "      <th>country</th>\n",
       "      <th>date_added</th>\n",
       "      <th>release_year</th>\n",
       "      <th>rating</th>\n",
       "      <th>duration</th>\n",
       "      <th>listed_in</th>\n",
       "      <th>description</th>\n",
       "      <th>date_added_year</th>\n",
       "      <th>date_added_month</th>\n",
       "      <th>date_added_dow</th>\n",
       "    </tr>\n",
       "  </thead>\n",
       "  <tbody>\n",
       "    <tr>\n",
       "      <th>0</th>\n",
       "      <td>1</td>\n",
       "      <td>s2</td>\n",
       "      <td>TV Show</td>\n",
       "      <td>Blood &amp; Water</td>\n",
       "      <td>ama qamata</td>\n",
       "      <td>south africa</td>\n",
       "      <td>2021-09-24</td>\n",
       "      <td>2021</td>\n",
       "      <td>TV-MA</td>\n",
       "      <td>2 Seasons</td>\n",
       "      <td>international tv shows</td>\n",
       "      <td>After crossing paths at a party, a Cape Town t...</td>\n",
       "      <td>2021.0</td>\n",
       "      <td>9.0</td>\n",
       "      <td>4.0</td>\n",
       "    </tr>\n",
       "    <tr>\n",
       "      <th>0</th>\n",
       "      <td>1</td>\n",
       "      <td>s2</td>\n",
       "      <td>TV Show</td>\n",
       "      <td>Blood &amp; Water</td>\n",
       "      <td>khosi ngema</td>\n",
       "      <td>south africa</td>\n",
       "      <td>2021-09-24</td>\n",
       "      <td>2021</td>\n",
       "      <td>TV-MA</td>\n",
       "      <td>2 Seasons</td>\n",
       "      <td>international tv shows</td>\n",
       "      <td>After crossing paths at a party, a Cape Town t...</td>\n",
       "      <td>2021.0</td>\n",
       "      <td>9.0</td>\n",
       "      <td>4.0</td>\n",
       "    </tr>\n",
       "    <tr>\n",
       "      <th>0</th>\n",
       "      <td>1</td>\n",
       "      <td>s2</td>\n",
       "      <td>TV Show</td>\n",
       "      <td>Blood &amp; Water</td>\n",
       "      <td>gail mabalane</td>\n",
       "      <td>south africa</td>\n",
       "      <td>2021-09-24</td>\n",
       "      <td>2021</td>\n",
       "      <td>TV-MA</td>\n",
       "      <td>2 Seasons</td>\n",
       "      <td>international tv shows</td>\n",
       "      <td>After crossing paths at a party, a Cape Town t...</td>\n",
       "      <td>2021.0</td>\n",
       "      <td>9.0</td>\n",
       "      <td>4.0</td>\n",
       "    </tr>\n",
       "    <tr>\n",
       "      <th>0</th>\n",
       "      <td>1</td>\n",
       "      <td>s2</td>\n",
       "      <td>TV Show</td>\n",
       "      <td>Blood &amp; Water</td>\n",
       "      <td>thabang molaba</td>\n",
       "      <td>south africa</td>\n",
       "      <td>2021-09-24</td>\n",
       "      <td>2021</td>\n",
       "      <td>TV-MA</td>\n",
       "      <td>2 Seasons</td>\n",
       "      <td>international tv shows</td>\n",
       "      <td>After crossing paths at a party, a Cape Town t...</td>\n",
       "      <td>2021.0</td>\n",
       "      <td>9.0</td>\n",
       "      <td>4.0</td>\n",
       "    </tr>\n",
       "    <tr>\n",
       "      <th>0</th>\n",
       "      <td>1</td>\n",
       "      <td>s2</td>\n",
       "      <td>TV Show</td>\n",
       "      <td>Blood &amp; Water</td>\n",
       "      <td>dillon windvogel</td>\n",
       "      <td>south africa</td>\n",
       "      <td>2021-09-24</td>\n",
       "      <td>2021</td>\n",
       "      <td>TV-MA</td>\n",
       "      <td>2 Seasons</td>\n",
       "      <td>international tv shows</td>\n",
       "      <td>After crossing paths at a party, a Cape Town t...</td>\n",
       "      <td>2021.0</td>\n",
       "      <td>9.0</td>\n",
       "      <td>4.0</td>\n",
       "    </tr>\n",
       "    <tr>\n",
       "      <th>...</th>\n",
       "      <td>...</td>\n",
       "      <td>...</td>\n",
       "      <td>...</td>\n",
       "      <td>...</td>\n",
       "      <td>...</td>\n",
       "      <td>...</td>\n",
       "      <td>...</td>\n",
       "      <td>...</td>\n",
       "      <td>...</td>\n",
       "      <td>...</td>\n",
       "      <td>...</td>\n",
       "      <td>...</td>\n",
       "      <td>...</td>\n",
       "      <td>...</td>\n",
       "      <td>...</td>\n",
       "    </tr>\n",
       "    <tr>\n",
       "      <th>2674</th>\n",
       "      <td>8800</td>\n",
       "      <td>s8801</td>\n",
       "      <td>TV Show</td>\n",
       "      <td>Zindagi Gulzar Hai</td>\n",
       "      <td>sheheryar munawar</td>\n",
       "      <td>pakistan</td>\n",
       "      <td>2016-12-15</td>\n",
       "      <td>2012</td>\n",
       "      <td>TV-PG</td>\n",
       "      <td>1 Season</td>\n",
       "      <td>tv dramas</td>\n",
       "      <td>Strong-willed, middle-class Kashaf and carefre...</td>\n",
       "      <td>2016.0</td>\n",
       "      <td>12.0</td>\n",
       "      <td>3.0</td>\n",
       "    </tr>\n",
       "    <tr>\n",
       "      <th>2674</th>\n",
       "      <td>8800</td>\n",
       "      <td>s8801</td>\n",
       "      <td>TV Show</td>\n",
       "      <td>Zindagi Gulzar Hai</td>\n",
       "      <td>samina peerzada</td>\n",
       "      <td>pakistan</td>\n",
       "      <td>2016-12-15</td>\n",
       "      <td>2012</td>\n",
       "      <td>TV-PG</td>\n",
       "      <td>1 Season</td>\n",
       "      <td>tv dramas</td>\n",
       "      <td>Strong-willed, middle-class Kashaf and carefre...</td>\n",
       "      <td>2016.0</td>\n",
       "      <td>12.0</td>\n",
       "      <td>3.0</td>\n",
       "    </tr>\n",
       "    <tr>\n",
       "      <th>2674</th>\n",
       "      <td>8800</td>\n",
       "      <td>s8801</td>\n",
       "      <td>TV Show</td>\n",
       "      <td>Zindagi Gulzar Hai</td>\n",
       "      <td>waseem abbas</td>\n",
       "      <td>pakistan</td>\n",
       "      <td>2016-12-15</td>\n",
       "      <td>2012</td>\n",
       "      <td>TV-PG</td>\n",
       "      <td>1 Season</td>\n",
       "      <td>tv dramas</td>\n",
       "      <td>Strong-willed, middle-class Kashaf and carefre...</td>\n",
       "      <td>2016.0</td>\n",
       "      <td>12.0</td>\n",
       "      <td>3.0</td>\n",
       "    </tr>\n",
       "    <tr>\n",
       "      <th>2674</th>\n",
       "      <td>8800</td>\n",
       "      <td>s8801</td>\n",
       "      <td>TV Show</td>\n",
       "      <td>Zindagi Gulzar Hai</td>\n",
       "      <td>javed sheikh</td>\n",
       "      <td>pakistan</td>\n",
       "      <td>2016-12-15</td>\n",
       "      <td>2012</td>\n",
       "      <td>TV-PG</td>\n",
       "      <td>1 Season</td>\n",
       "      <td>tv dramas</td>\n",
       "      <td>Strong-willed, middle-class Kashaf and carefre...</td>\n",
       "      <td>2016.0</td>\n",
       "      <td>12.0</td>\n",
       "      <td>3.0</td>\n",
       "    </tr>\n",
       "    <tr>\n",
       "      <th>2674</th>\n",
       "      <td>8800</td>\n",
       "      <td>s8801</td>\n",
       "      <td>TV Show</td>\n",
       "      <td>Zindagi Gulzar Hai</td>\n",
       "      <td>hina khawaja bayat</td>\n",
       "      <td>pakistan</td>\n",
       "      <td>2016-12-15</td>\n",
       "      <td>2012</td>\n",
       "      <td>TV-PG</td>\n",
       "      <td>1 Season</td>\n",
       "      <td>tv dramas</td>\n",
       "      <td>Strong-willed, middle-class Kashaf and carefre...</td>\n",
       "      <td>2016.0</td>\n",
       "      <td>12.0</td>\n",
       "      <td>3.0</td>\n",
       "    </tr>\n",
       "  </tbody>\n",
       "</table>\n",
       "<p>48237 rows × 15 columns</p>\n",
       "</div>"
      ],
      "text/plain": [
       "      index show_id     type               title                cast  \\\n",
       "0         1      s2  TV Show       Blood & Water          ama qamata   \n",
       "0         1      s2  TV Show       Blood & Water         khosi ngema   \n",
       "0         1      s2  TV Show       Blood & Water       gail mabalane   \n",
       "0         1      s2  TV Show       Blood & Water      thabang molaba   \n",
       "0         1      s2  TV Show       Blood & Water    dillon windvogel   \n",
       "...     ...     ...      ...                 ...                 ...   \n",
       "2674   8800   s8801  TV Show  Zindagi Gulzar Hai   sheheryar munawar   \n",
       "2674   8800   s8801  TV Show  Zindagi Gulzar Hai     samina peerzada   \n",
       "2674   8800   s8801  TV Show  Zindagi Gulzar Hai        waseem abbas   \n",
       "2674   8800   s8801  TV Show  Zindagi Gulzar Hai        javed sheikh   \n",
       "2674   8800   s8801  TV Show  Zindagi Gulzar Hai  hina khawaja bayat   \n",
       "\n",
       "           country date_added  release_year rating   duration  \\\n",
       "0     south africa 2021-09-24          2021  TV-MA  2 Seasons   \n",
       "0     south africa 2021-09-24          2021  TV-MA  2 Seasons   \n",
       "0     south africa 2021-09-24          2021  TV-MA  2 Seasons   \n",
       "0     south africa 2021-09-24          2021  TV-MA  2 Seasons   \n",
       "0     south africa 2021-09-24          2021  TV-MA  2 Seasons   \n",
       "...            ...        ...           ...    ...        ...   \n",
       "2674      pakistan 2016-12-15          2012  TV-PG   1 Season   \n",
       "2674      pakistan 2016-12-15          2012  TV-PG   1 Season   \n",
       "2674      pakistan 2016-12-15          2012  TV-PG   1 Season   \n",
       "2674      pakistan 2016-12-15          2012  TV-PG   1 Season   \n",
       "2674      pakistan 2016-12-15          2012  TV-PG   1 Season   \n",
       "\n",
       "                   listed_in  \\\n",
       "0     international tv shows   \n",
       "0     international tv shows   \n",
       "0     international tv shows   \n",
       "0     international tv shows   \n",
       "0     international tv shows   \n",
       "...                      ...   \n",
       "2674               tv dramas   \n",
       "2674               tv dramas   \n",
       "2674               tv dramas   \n",
       "2674               tv dramas   \n",
       "2674               tv dramas   \n",
       "\n",
       "                                            description  date_added_year  \\\n",
       "0     After crossing paths at a party, a Cape Town t...           2021.0   \n",
       "0     After crossing paths at a party, a Cape Town t...           2021.0   \n",
       "0     After crossing paths at a party, a Cape Town t...           2021.0   \n",
       "0     After crossing paths at a party, a Cape Town t...           2021.0   \n",
       "0     After crossing paths at a party, a Cape Town t...           2021.0   \n",
       "...                                                 ...              ...   \n",
       "2674  Strong-willed, middle-class Kashaf and carefre...           2016.0   \n",
       "2674  Strong-willed, middle-class Kashaf and carefre...           2016.0   \n",
       "2674  Strong-willed, middle-class Kashaf and carefre...           2016.0   \n",
       "2674  Strong-willed, middle-class Kashaf and carefre...           2016.0   \n",
       "2674  Strong-willed, middle-class Kashaf and carefre...           2016.0   \n",
       "\n",
       "      date_added_month  date_added_dow  \n",
       "0                  9.0             4.0  \n",
       "0                  9.0             4.0  \n",
       "0                  9.0             4.0  \n",
       "0                  9.0             4.0  \n",
       "0                  9.0             4.0  \n",
       "...                ...             ...  \n",
       "2674              12.0             3.0  \n",
       "2674              12.0             3.0  \n",
       "2674              12.0             3.0  \n",
       "2674              12.0             3.0  \n",
       "2674              12.0             3.0  \n",
       "\n",
       "[48237 rows x 15 columns]"
      ]
     },
     "execution_count": 307,
     "metadata": {},
     "output_type": "execute_result"
    }
   ],
   "source": [
    "df_shows_nonna"
   ]
  },
  {
   "cell_type": "code",
   "execution_count": 308,
   "metadata": {},
   "outputs": [
    {
     "data": {
      "text/plain": [
       "country\n",
       "united states     6.491803\n",
       "japan             2.509190\n",
       "united kingdom    2.063587\n",
       "south korea       1.827124\n",
       "canada            1.053154\n",
       "                    ...   \n",
       "cyprus            0.004968\n",
       "hungary           0.004968\n",
       "                  0.003974\n",
       "greece            0.002981\n",
       "belarus           0.002981\n",
       "Name: count, Length: 65, dtype: float64"
      ]
     },
     "execution_count": 308,
     "metadata": {},
     "output_type": "execute_result"
    }
   ],
   "source": [
    "df_shows_nonna['country'].value_counts() / df_shows_nonna['title'].nunique()"
   ]
  },
  {
   "cell_type": "code",
   "execution_count": 310,
   "metadata": {},
   "outputs": [
    {
     "data": {
      "text/html": [
       "<div>\n",
       "<style scoped>\n",
       "    .dataframe tbody tr th:only-of-type {\n",
       "        vertical-align: middle;\n",
       "    }\n",
       "\n",
       "    .dataframe tbody tr th {\n",
       "        vertical-align: top;\n",
       "    }\n",
       "\n",
       "    .dataframe thead th {\n",
       "        text-align: right;\n",
       "    }\n",
       "</style>\n",
       "<table border=\"1\" class=\"dataframe\">\n",
       "  <thead>\n",
       "    <tr style=\"text-align: right;\">\n",
       "      <th></th>\n",
       "      <th>cast</th>\n",
       "      <th>title</th>\n",
       "    </tr>\n",
       "  </thead>\n",
       "  <tbody>\n",
       "    <tr>\n",
       "      <th>2859</th>\n",
       "      <td>david attenborough</td>\n",
       "      <td>82</td>\n",
       "    </tr>\n",
       "    <tr>\n",
       "      <th>11989</th>\n",
       "      <td>takahiro sakurai</td>\n",
       "      <td>49</td>\n",
       "    </tr>\n",
       "    <tr>\n",
       "      <th>13202</th>\n",
       "      <td>yuki kaji</td>\n",
       "      <td>42</td>\n",
       "    </tr>\n",
       "    <tr>\n",
       "      <th>6439</th>\n",
       "      <td>kate harbour</td>\n",
       "      <td>37</td>\n",
       "    </tr>\n",
       "    <tr>\n",
       "      <th>2619</th>\n",
       "      <td>daisuke ono</td>\n",
       "      <td>37</td>\n",
       "    </tr>\n",
       "    <tr>\n",
       "      <th>13186</th>\n",
       "      <td>yuichi nakamura</td>\n",
       "      <td>36</td>\n",
       "    </tr>\n",
       "    <tr>\n",
       "      <th>6193</th>\n",
       "      <td>jun fukuyama</td>\n",
       "      <td>36</td>\n",
       "    </tr>\n",
       "    <tr>\n",
       "      <th>6234</th>\n",
       "      <td>junichi suwabe</td>\n",
       "      <td>36</td>\n",
       "    </tr>\n",
       "    <tr>\n",
       "      <th>222</th>\n",
       "      <td>ai kayano</td>\n",
       "      <td>36</td>\n",
       "    </tr>\n",
       "    <tr>\n",
       "      <th>6265</th>\n",
       "      <td>justin fletcher</td>\n",
       "      <td>35</td>\n",
       "    </tr>\n",
       "  </tbody>\n",
       "</table>\n",
       "</div>"
      ],
      "text/plain": [
       "                     cast  title\n",
       "2859   david attenborough     82\n",
       "11989    takahiro sakurai     49\n",
       "13202           yuki kaji     42\n",
       "6439         kate harbour     37\n",
       "2619          daisuke ono     37\n",
       "13186     yuichi nakamura     36\n",
       "6193         jun fukuyama     36\n",
       "6234       junichi suwabe     36\n",
       "222             ai kayano     36\n",
       "6265      justin fletcher     35"
      ]
     },
     "execution_count": 310,
     "metadata": {},
     "output_type": "execute_result"
    }
   ],
   "source": [
    "df_shows_nonna[['cast','title']].groupby(by='cast').count().reset_index().sort_values(by='title', ascending=False).head(10)"
   ]
  },
  {
   "cell_type": "code",
   "execution_count": 311,
   "metadata": {},
   "outputs": [
    {
     "data": {
      "text/plain": [
       "0"
      ]
     },
     "execution_count": 311,
     "metadata": {},
     "output_type": "execute_result"
    }
   ],
   "source": [
    "df_shows_nonna[df_shows_nonna['cast'] == 'David Attenborough']['title'].nunique()"
   ]
  },
  {
   "cell_type": "code",
   "execution_count": 312,
   "metadata": {},
   "outputs": [
    {
     "data": {
      "text/html": [
       "<div>\n",
       "<style scoped>\n",
       "    .dataframe tbody tr th:only-of-type {\n",
       "        vertical-align: middle;\n",
       "    }\n",
       "\n",
       "    .dataframe tbody tr th {\n",
       "        vertical-align: top;\n",
       "    }\n",
       "\n",
       "    .dataframe thead th {\n",
       "        text-align: right;\n",
       "    }\n",
       "</style>\n",
       "<table border=\"1\" class=\"dataframe\">\n",
       "  <thead>\n",
       "    <tr style=\"text-align: right;\">\n",
       "      <th></th>\n",
       "      <th>cast</th>\n",
       "      <th>title</th>\n",
       "    </tr>\n",
       "  </thead>\n",
       "  <tbody>\n",
       "    <tr>\n",
       "      <th>11989</th>\n",
       "      <td>takahiro sakurai</td>\n",
       "      <td>22</td>\n",
       "    </tr>\n",
       "    <tr>\n",
       "      <th>13202</th>\n",
       "      <td>yuki kaji</td>\n",
       "      <td>18</td>\n",
       "    </tr>\n",
       "    <tr>\n",
       "      <th>2619</th>\n",
       "      <td>daisuke ono</td>\n",
       "      <td>17</td>\n",
       "    </tr>\n",
       "    <tr>\n",
       "      <th>6234</th>\n",
       "      <td>junichi suwabe</td>\n",
       "      <td>16</td>\n",
       "    </tr>\n",
       "    <tr>\n",
       "      <th>13186</th>\n",
       "      <td>yuichi nakamura</td>\n",
       "      <td>15</td>\n",
       "    </tr>\n",
       "    <tr>\n",
       "      <th>222</th>\n",
       "      <td>ai kayano</td>\n",
       "      <td>15</td>\n",
       "    </tr>\n",
       "    <tr>\n",
       "      <th>13125</th>\n",
       "      <td>yoshimasa hosoya</td>\n",
       "      <td>15</td>\n",
       "    </tr>\n",
       "    <tr>\n",
       "      <th>6193</th>\n",
       "      <td>jun fukuyama</td>\n",
       "      <td>14</td>\n",
       "    </tr>\n",
       "    <tr>\n",
       "      <th>2859</th>\n",
       "      <td>david attenborough</td>\n",
       "      <td>14</td>\n",
       "    </tr>\n",
       "    <tr>\n",
       "      <th>4660</th>\n",
       "      <td>hiroshi kamiya</td>\n",
       "      <td>13</td>\n",
       "    </tr>\n",
       "  </tbody>\n",
       "</table>\n",
       "</div>"
      ],
      "text/plain": [
       "                     cast  title\n",
       "11989    takahiro sakurai     22\n",
       "13202           yuki kaji     18\n",
       "2619          daisuke ono     17\n",
       "6234       junichi suwabe     16\n",
       "13186     yuichi nakamura     15\n",
       "222             ai kayano     15\n",
       "13125    yoshimasa hosoya     15\n",
       "6193         jun fukuyama     14\n",
       "2859   david attenborough     14\n",
       "4660       hiroshi kamiya     13"
      ]
     },
     "execution_count": 312,
     "metadata": {},
     "output_type": "execute_result"
    }
   ],
   "source": [
    "df_shows_actors = df_shows_nonna[['cast','title']].drop_duplicates().groupby(by='cast').count().reset_index().sort_values(by='title', ascending=False).head(10)\n",
    "\n",
    "df_shows_actors"
   ]
  },
  {
   "cell_type": "code",
   "execution_count": 313,
   "metadata": {},
   "outputs": [
    {
     "data": {
      "text/plain": [
       "(48237, 15)"
      ]
     },
     "execution_count": 313,
     "metadata": {},
     "output_type": "execute_result"
    }
   ],
   "source": [
    "df_shows_nonna.shape"
   ]
  },
  {
   "attachments": {},
   "cell_type": "markdown",
   "metadata": {},
   "source": [
    "## Genre, Cast and Country analysis"
   ]
  },
  {
   "cell_type": "code",
   "execution_count": 361,
   "metadata": {},
   "outputs": [
    {
     "data": {
      "image/png": "[encoded data removed]",
      "text/plain": [
       "<Figure size 1800x600 with 1 Axes>"
      ]
     },
     "metadata": {},
     "output_type": "display_data"
    },
    {
     "data": {
      "image/png": "[encoded data removed]",
      "text/plain": [
       "<Figure size 1800x600 with 1 Axes>"
      ]
     },
     "metadata": {},
     "output_type": "display_data"
    },
    {
     "data": {
      "image/png": "[encoded data removed]",
      "text/plain": [
       "<Figure size 1800x600 with 1 Axes>"
      ]
     },
     "metadata": {},
     "output_type": "display_data"
    },
    {
     "data": {
      "image/png": "[encoded data removed]",
      "text/plain": [
       "<Figure size 1800x600 with 1 Axes>"
      ]
     },
     "metadata": {},
     "output_type": "display_data"
    },
    {
     "data": {
      "image/png": "[encoded data removed]",
      "text/plain": [
       "<Figure size 1800x600 with 1 Axes>"
      ]
     },
     "metadata": {},
     "output_type": "display_data"
    },
    {
     "data": {
      "image/png": "[encoded data removed]",
      "text/plain": [
       "<Figure size 1800x600 with 1 Axes>"
      ]
     },
     "metadata": {},
     "output_type": "display_data"
    },
    {
     "data": {
      "image/png": "[encoded data removed]",
      "text/plain": [
       "<Figure size 1800x600 with 1 Axes>"
      ]
     },
     "metadata": {},
     "output_type": "display_data"
    }
   ],
   "source": [
    "def analysis_plot_barchart(df, x_cols: list, y: str):\n",
    "\n",
    "    title = y\n",
    "\n",
    "    for items in x_cols: \n",
    "        df_shows_analysis = df[[items,title]].drop_duplicates().groupby(by=items).count().reset_index().sort_values(by=title, ascending=False).head(10)\n",
    "        #print(df_shows_analysis)\n",
    "\n",
    "        if items in ['date_added_year','date_added_month','date_added_dow']:\n",
    "            # PLot barcharts \n",
    "            plt.figure(figsize= (18,6))\n",
    "            plt.title(f'Trend  over {items}')\n",
    "            sns.lineplot(data= df_shows_analysis, x= items, y = title)\n",
    "\n",
    "        else:\n",
    "            # PLot barcharts \n",
    "            plt.figure(figsize= (18,6))\n",
    "            plt.title(f'Distribution of {items} by count')\n",
    "            sns.barplot(data= df_shows_analysis, x= items, y = title)\n",
    "\n",
    "\n",
    "analysis_plot_barchart(df_shows_nonna, x_cols = ['cast','rating','listed_in','country','date_added_year','date_added_month','date_added_dow'], y='title')"
   ]
  },
  {
   "cell_type": "code",
   "execution_count": 316,
   "metadata": {},
   "outputs": [
    {
     "data": {
      "text/plain": [
       "array(['international tv shows', 'tv dramas', 'tv mysteries',\n",
       "       'romantic tv shows', 'tv comedies', 'british tv shows',\n",
       "       'reality tv', 'crime tv shows', 'spanish-language tv shows',\n",
       "       'tv action & adventure', 'docuseries', \"kids' tv\",\n",
       "       'tv sci-fi & fantasy', 'anime series', 'korean tv shows',\n",
       "       'teen tv shows', 'tv horror', 'tv shows', 'classic & cult tv',\n",
       "       'tv thrillers', 'science & nature tv',\n",
       "       'stand-up comedy & talk shows'], dtype=object)"
      ]
     },
     "execution_count": 316,
     "metadata": {},
     "output_type": "execute_result"
    }
   ],
   "source": [
    "df_shows_nonna['listed_in'].unique()"
   ]
  },
  {
   "cell_type": "code",
   "execution_count": 317,
   "metadata": {},
   "outputs": [
    {
     "data": {
      "text/plain": [
       "<Axes: xlabel='duration', ylabel='Density'>"
      ]
     },
     "execution_count": 317,
     "metadata": {},
     "output_type": "execute_result"
    },
    {
     "data": {
      "image/png": "[encoded data removed]",
      "text/plain": [
       "<Figure size 640x480 with 1 Axes>"
      ]
     },
     "metadata": {},
     "output_type": "display_data"
    }
   ],
   "source": [
    "sns.distplot(df_shows_nonna[['title','duration']].drop_duplicates()['duration'].apply(lambda x: x.split(' ')[0]))"
   ]
  },
  {
   "cell_type": "code",
   "execution_count": null,
   "metadata": {},
   "outputs": [],
   "source": []
  },
  {
   "attachments": {},
   "cell_type": "markdown",
   "metadata": {},
   "source": [
    "________________________________________________"
   ]
  },
  {
   "attachments": {},
   "cell_type": "markdown",
   "metadata": {},
   "source": [
    "## Lets us now explore the Movies"
   ]
  },
  {
   "cell_type": "code",
   "execution_count": 318,
   "metadata": {},
   "outputs": [
    {
     "data": {
      "text/html": [
       "<div>\n",
       "<style scoped>\n",
       "    .dataframe tbody tr th:only-of-type {\n",
       "        vertical-align: middle;\n",
       "    }\n",
       "\n",
       "    .dataframe tbody tr th {\n",
       "        vertical-align: top;\n",
       "    }\n",
       "\n",
       "    .dataframe thead th {\n",
       "        text-align: right;\n",
       "    }\n",
       "</style>\n",
       "<table border=\"1\" class=\"dataframe\">\n",
       "  <thead>\n",
       "    <tr style=\"text-align: right;\">\n",
       "      <th></th>\n",
       "      <th>show_id</th>\n",
       "      <th>type</th>\n",
       "      <th>title</th>\n",
       "      <th>director</th>\n",
       "      <th>cast</th>\n",
       "      <th>country</th>\n",
       "      <th>date_added</th>\n",
       "      <th>release_year</th>\n",
       "      <th>rating</th>\n",
       "      <th>duration</th>\n",
       "      <th>listed_in</th>\n",
       "      <th>description</th>\n",
       "    </tr>\n",
       "  </thead>\n",
       "  <tbody>\n",
       "    <tr>\n",
       "      <th>0</th>\n",
       "      <td>s1</td>\n",
       "      <td>Movie</td>\n",
       "      <td>Dick Johnson Is Dead</td>\n",
       "      <td>Kirsten Johnson</td>\n",
       "      <td>NaN</td>\n",
       "      <td>United States</td>\n",
       "      <td>September 25, 2021</td>\n",
       "      <td>2020</td>\n",
       "      <td>PG-13</td>\n",
       "      <td>90 min</td>\n",
       "      <td>Documentaries</td>\n",
       "      <td>As her father nears the end of his life, filmm...</td>\n",
       "    </tr>\n",
       "    <tr>\n",
       "      <th>6</th>\n",
       "      <td>s7</td>\n",
       "      <td>Movie</td>\n",
       "      <td>My Little Pony: A New Generation</td>\n",
       "      <td>Robert Cullen, José Luis Ucha</td>\n",
       "      <td>Vanessa Hudgens, Kimiko Glenn, James Marsden, ...</td>\n",
       "      <td>NaN</td>\n",
       "      <td>September 24, 2021</td>\n",
       "      <td>2021</td>\n",
       "      <td>PG</td>\n",
       "      <td>91 min</td>\n",
       "      <td>Children &amp; Family Movies</td>\n",
       "      <td>Equestria's divided. But a bright-eyed hero be...</td>\n",
       "    </tr>\n",
       "    <tr>\n",
       "      <th>7</th>\n",
       "      <td>s8</td>\n",
       "      <td>Movie</td>\n",
       "      <td>Sankofa</td>\n",
       "      <td>Haile Gerima</td>\n",
       "      <td>Kofi Ghanaba, Oyafunmike Ogunlano, Alexandra D...</td>\n",
       "      <td>United States, Ghana, Burkina Faso, United Kin...</td>\n",
       "      <td>September 24, 2021</td>\n",
       "      <td>1993</td>\n",
       "      <td>TV-MA</td>\n",
       "      <td>125 min</td>\n",
       "      <td>Dramas, Independent Movies, International Movies</td>\n",
       "      <td>On a photo shoot in Ghana, an American model s...</td>\n",
       "    </tr>\n",
       "    <tr>\n",
       "      <th>9</th>\n",
       "      <td>s10</td>\n",
       "      <td>Movie</td>\n",
       "      <td>The Starling</td>\n",
       "      <td>Theodore Melfi</td>\n",
       "      <td>Melissa McCarthy, Chris O'Dowd, Kevin Kline, T...</td>\n",
       "      <td>United States</td>\n",
       "      <td>September 24, 2021</td>\n",
       "      <td>2021</td>\n",
       "      <td>PG-13</td>\n",
       "      <td>104 min</td>\n",
       "      <td>Comedies, Dramas</td>\n",
       "      <td>A woman adjusting to life after a loss contend...</td>\n",
       "    </tr>\n",
       "    <tr>\n",
       "      <th>12</th>\n",
       "      <td>s13</td>\n",
       "      <td>Movie</td>\n",
       "      <td>Je Suis Karl</td>\n",
       "      <td>Christian Schwochow</td>\n",
       "      <td>Luna Wedler, Jannis Niewöhner, Milan Peschel, ...</td>\n",
       "      <td>Germany, Czech Republic</td>\n",
       "      <td>September 23, 2021</td>\n",
       "      <td>2021</td>\n",
       "      <td>TV-MA</td>\n",
       "      <td>127 min</td>\n",
       "      <td>Dramas, International Movies</td>\n",
       "      <td>After most of her family is murdered in a terr...</td>\n",
       "    </tr>\n",
       "  </tbody>\n",
       "</table>\n",
       "</div>"
      ],
      "text/plain": [
       "   show_id   type                             title  \\\n",
       "0       s1  Movie              Dick Johnson Is Dead   \n",
       "6       s7  Movie  My Little Pony: A New Generation   \n",
       "7       s8  Movie                           Sankofa   \n",
       "9      s10  Movie                      The Starling   \n",
       "12     s13  Movie                      Je Suis Karl   \n",
       "\n",
       "                         director  \\\n",
       "0                 Kirsten Johnson   \n",
       "6   Robert Cullen, José Luis Ucha   \n",
       "7                    Haile Gerima   \n",
       "9                  Theodore Melfi   \n",
       "12            Christian Schwochow   \n",
       "\n",
       "                                                 cast  \\\n",
       "0                                                 NaN   \n",
       "6   Vanessa Hudgens, Kimiko Glenn, James Marsden, ...   \n",
       "7   Kofi Ghanaba, Oyafunmike Ogunlano, Alexandra D...   \n",
       "9   Melissa McCarthy, Chris O'Dowd, Kevin Kline, T...   \n",
       "12  Luna Wedler, Jannis Niewöhner, Milan Peschel, ...   \n",
       "\n",
       "                                              country          date_added  \\\n",
       "0                                       United States  September 25, 2021   \n",
       "6                                                 NaN  September 24, 2021   \n",
       "7   United States, Ghana, Burkina Faso, United Kin...  September 24, 2021   \n",
       "9                                       United States  September 24, 2021   \n",
       "12                            Germany, Czech Republic  September 23, 2021   \n",
       "\n",
       "    release_year rating duration  \\\n",
       "0           2020  PG-13   90 min   \n",
       "6           2021     PG   91 min   \n",
       "7           1993  TV-MA  125 min   \n",
       "9           2021  PG-13  104 min   \n",
       "12          2021  TV-MA  127 min   \n",
       "\n",
       "                                           listed_in  \\\n",
       "0                                      Documentaries   \n",
       "6                           Children & Family Movies   \n",
       "7   Dramas, Independent Movies, International Movies   \n",
       "9                                   Comedies, Dramas   \n",
       "12                      Dramas, International Movies   \n",
       "\n",
       "                                          description  \n",
       "0   As her father nears the end of his life, filmm...  \n",
       "6   Equestria's divided. But a bright-eyed hero be...  \n",
       "7   On a photo shoot in Ghana, an American model s...  \n",
       "9   A woman adjusting to life after a loss contend...  \n",
       "12  After most of her family is murdered in a terr...  "
      ]
     },
     "execution_count": 318,
     "metadata": {},
     "output_type": "execute_result"
    }
   ],
   "source": [
    "df_movie.head()"
   ]
  },
  {
   "attachments": {},
   "cell_type": "markdown",
   "metadata": {},
   "source": []
  },
  {
   "cell_type": "code",
   "execution_count": 319,
   "metadata": {},
   "outputs": [],
   "source": [
    "df_movie.reset_index(inplace= True)"
   ]
  },
  {
   "cell_type": "code",
   "execution_count": 320,
   "metadata": {},
   "outputs": [
    {
     "data": {
      "text/plain": [
       "(6131, 13)"
      ]
     },
     "execution_count": 320,
     "metadata": {},
     "output_type": "execute_result"
    }
   ],
   "source": [
    "df_movie.shape"
   ]
  },
  {
   "cell_type": "code",
   "execution_count": 321,
   "metadata": {},
   "outputs": [
    {
     "data": {
      "text/plain": [
       "index             0\n",
       "show_id           0\n",
       "type              0\n",
       "title             0\n",
       "director        188\n",
       "cast            475\n",
       "country         440\n",
       "date_added        0\n",
       "release_year      0\n",
       "rating            2\n",
       "duration          3\n",
       "listed_in         0\n",
       "description       0\n",
       "dtype: int64"
      ]
     },
     "execution_count": 321,
     "metadata": {},
     "output_type": "execute_result"
    }
   ],
   "source": [
    "df_movie.isnull().sum()"
   ]
  },
  {
   "cell_type": "code",
   "execution_count": 322,
   "metadata": {},
   "outputs": [
    {
     "data": {
      "text/plain": [
       "index           0.000000\n",
       "show_id         0.000000\n",
       "type            0.000000\n",
       "title           0.000000\n",
       "director        3.066384\n",
       "cast            7.747513\n",
       "country         7.176643\n",
       "date_added      0.000000\n",
       "release_year    0.000000\n",
       "rating          0.032621\n",
       "duration        0.048932\n",
       "listed_in       0.000000\n",
       "description     0.000000\n",
       "dtype: float64"
      ]
     },
     "execution_count": 322,
     "metadata": {},
     "output_type": "execute_result"
    }
   ],
   "source": [
    "((df_movie.isnull().sum())/ df_movie.shape[0])*100"
   ]
  },
  {
   "cell_type": "code",
   "execution_count": 323,
   "metadata": {},
   "outputs": [
    {
     "data": {
      "text/plain": [
       "6131"
      ]
     },
     "execution_count": 323,
     "metadata": {},
     "output_type": "execute_result"
    }
   ],
   "source": [
    "## Let us check number of unique movies present \n",
    "\n",
    "df_movie['title'].nunique()"
   ]
  },
  {
   "cell_type": "code",
   "execution_count": 324,
   "metadata": {},
   "outputs": [
    {
     "data": {
      "text/plain": [
       "0                                                     NaN\n",
       "1       Vanessa Hudgens, Kimiko Glenn, James Marsden, ...\n",
       "2       Kofi Ghanaba, Oyafunmike Ogunlano, Alexandra D...\n",
       "3       Melissa McCarthy, Chris O'Dowd, Kevin Kline, T...\n",
       "4       Luna Wedler, Jannis Niewöhner, Milan Peschel, ...\n",
       "                              ...                        \n",
       "6126    Ali Suliman, Saleh Bakri, Yasa, Ali Al-Jabri, ...\n",
       "6127    Mark Ruffalo, Jake Gyllenhaal, Robert Downey J...\n",
       "6128    Jesse Eisenberg, Woody Harrelson, Emma Stone, ...\n",
       "6129    Tim Allen, Courteney Cox, Chevy Chase, Kate Ma...\n",
       "6130    Vicky Kaushal, Sarah-Jane Dias, Raaghav Chanan...\n",
       "Name: cast, Length: 6131, dtype: object"
      ]
     },
     "execution_count": 324,
     "metadata": {},
     "output_type": "execute_result"
    }
   ],
   "source": [
    "df_movie['cast']"
   ]
  },
  {
   "cell_type": "code",
   "execution_count": 325,
   "metadata": {},
   "outputs": [
    {
     "data": {
      "text/plain": [
       "0                                           United States\n",
       "1                                                     NaN\n",
       "2       United States, Ghana, Burkina Faso, United Kin...\n",
       "3                                           United States\n",
       "4                                 Germany, Czech Republic\n",
       "                              ...                        \n",
       "6126                         United Arab Emirates, Jordan\n",
       "6127                                        United States\n",
       "6128                                        United States\n",
       "6129                                        United States\n",
       "6130                                                India\n",
       "Name: country, Length: 6131, dtype: object"
      ]
     },
     "execution_count": 325,
     "metadata": {},
     "output_type": "execute_result"
    }
   ],
   "source": [
    "df_movie['country']"
   ]
  },
  {
   "cell_type": "code",
   "execution_count": 326,
   "metadata": {},
   "outputs": [
    {
     "data": {
      "text/plain": [
       "0                                          Documentaries\n",
       "1                               Children & Family Movies\n",
       "2       Dramas, Independent Movies, International Movies\n",
       "3                                       Comedies, Dramas\n",
       "4                           Dramas, International Movies\n",
       "                              ...                       \n",
       "6126             Dramas, International Movies, Thrillers\n",
       "6127                      Cult Movies, Dramas, Thrillers\n",
       "6128                             Comedies, Horror Movies\n",
       "6129                  Children & Family Movies, Comedies\n",
       "6130      Dramas, International Movies, Music & Musicals\n",
       "Name: listed_in, Length: 6131, dtype: object"
      ]
     },
     "execution_count": 326,
     "metadata": {},
     "output_type": "execute_result"
    }
   ],
   "source": [
    "df_movie['listed_in']"
   ]
  },
  {
   "cell_type": "code",
   "execution_count": 327,
   "metadata": {},
   "outputs": [
    {
     "data": {
      "text/plain": [
       "0       September 25, 2021\n",
       "1       September 24, 2021\n",
       "2       September 24, 2021\n",
       "3       September 24, 2021\n",
       "4       September 23, 2021\n",
       "               ...        \n",
       "6126         March 9, 2016\n",
       "6127     November 20, 2019\n",
       "6128      November 1, 2019\n",
       "6129      January 11, 2020\n",
       "6130         March 2, 2019\n",
       "Name: date_added, Length: 6131, dtype: object"
      ]
     },
     "execution_count": 327,
     "metadata": {},
     "output_type": "execute_result"
    }
   ],
   "source": [
    "df_movie['date_added']"
   ]
  },
  {
   "attachments": {},
   "cell_type": "markdown",
   "metadata": {},
   "source": [
    "We see from above that the date_added column is in string format. Let us change it to date"
   ]
  },
  {
   "cell_type": "code",
   "execution_count": 330,
   "metadata": {},
   "outputs": [],
   "source": [
    "df_movie['date_added'] = pd.to_datetime(df_movie['date_added'], format= 'mixed')\n",
    "df_movie['date_added_year'] = df_movie['date_added'].dt.year\n",
    "df_movie['date_added_month'] = df_movie['date_added'].dt.month\n",
    "df_movie['date_added_dow'] = df_movie['date_added'].dt.day_of_week"
   ]
  },
  {
   "cell_type": "code",
   "execution_count": 332,
   "metadata": {},
   "outputs": [
    {
     "data": {
      "text/html": [
       "<div>\n",
       "<style scoped>\n",
       "    .dataframe tbody tr th:only-of-type {\n",
       "        vertical-align: middle;\n",
       "    }\n",
       "\n",
       "    .dataframe tbody tr th {\n",
       "        vertical-align: top;\n",
       "    }\n",
       "\n",
       "    .dataframe thead th {\n",
       "        text-align: right;\n",
       "    }\n",
       "</style>\n",
       "<table border=\"1\" class=\"dataframe\">\n",
       "  <thead>\n",
       "    <tr style=\"text-align: right;\">\n",
       "      <th></th>\n",
       "      <th>index</th>\n",
       "      <th>show_id</th>\n",
       "      <th>type</th>\n",
       "      <th>title</th>\n",
       "      <th>director</th>\n",
       "      <th>cast</th>\n",
       "      <th>country</th>\n",
       "      <th>date_added</th>\n",
       "      <th>release_year</th>\n",
       "      <th>rating</th>\n",
       "      <th>duration</th>\n",
       "      <th>listed_in</th>\n",
       "      <th>description</th>\n",
       "      <th>date_added_year</th>\n",
       "      <th>date_added_month</th>\n",
       "      <th>date_added_dow</th>\n",
       "    </tr>\n",
       "  </thead>\n",
       "  <tbody>\n",
       "    <tr>\n",
       "      <th>0</th>\n",
       "      <td>0</td>\n",
       "      <td>s1</td>\n",
       "      <td>Movie</td>\n",
       "      <td>Dick Johnson Is Dead</td>\n",
       "      <td>Kirsten Johnson</td>\n",
       "      <td>NaN</td>\n",
       "      <td>United States</td>\n",
       "      <td>2021-09-25</td>\n",
       "      <td>2020</td>\n",
       "      <td>PG-13</td>\n",
       "      <td>90 min</td>\n",
       "      <td>Documentaries</td>\n",
       "      <td>As her father nears the end of his life, filmm...</td>\n",
       "      <td>2021</td>\n",
       "      <td>9</td>\n",
       "      <td>5</td>\n",
       "    </tr>\n",
       "    <tr>\n",
       "      <th>1</th>\n",
       "      <td>6</td>\n",
       "      <td>s7</td>\n",
       "      <td>Movie</td>\n",
       "      <td>My Little Pony: A New Generation</td>\n",
       "      <td>Robert Cullen, José Luis Ucha</td>\n",
       "      <td>Vanessa Hudgens, Kimiko Glenn, James Marsden, ...</td>\n",
       "      <td>NaN</td>\n",
       "      <td>2021-09-24</td>\n",
       "      <td>2021</td>\n",
       "      <td>PG</td>\n",
       "      <td>91 min</td>\n",
       "      <td>Children &amp; Family Movies</td>\n",
       "      <td>Equestria's divided. But a bright-eyed hero be...</td>\n",
       "      <td>2021</td>\n",
       "      <td>9</td>\n",
       "      <td>4</td>\n",
       "    </tr>\n",
       "    <tr>\n",
       "      <th>2</th>\n",
       "      <td>7</td>\n",
       "      <td>s8</td>\n",
       "      <td>Movie</td>\n",
       "      <td>Sankofa</td>\n",
       "      <td>Haile Gerima</td>\n",
       "      <td>Kofi Ghanaba, Oyafunmike Ogunlano, Alexandra D...</td>\n",
       "      <td>United States, Ghana, Burkina Faso, United Kin...</td>\n",
       "      <td>2021-09-24</td>\n",
       "      <td>1993</td>\n",
       "      <td>TV-MA</td>\n",
       "      <td>125 min</td>\n",
       "      <td>Dramas, Independent Movies, International Movies</td>\n",
       "      <td>On a photo shoot in Ghana, an American model s...</td>\n",
       "      <td>2021</td>\n",
       "      <td>9</td>\n",
       "      <td>4</td>\n",
       "    </tr>\n",
       "    <tr>\n",
       "      <th>3</th>\n",
       "      <td>9</td>\n",
       "      <td>s10</td>\n",
       "      <td>Movie</td>\n",
       "      <td>The Starling</td>\n",
       "      <td>Theodore Melfi</td>\n",
       "      <td>Melissa McCarthy, Chris O'Dowd, Kevin Kline, T...</td>\n",
       "      <td>United States</td>\n",
       "      <td>2021-09-24</td>\n",
       "      <td>2021</td>\n",
       "      <td>PG-13</td>\n",
       "      <td>104 min</td>\n",
       "      <td>Comedies, Dramas</td>\n",
       "      <td>A woman adjusting to life after a loss contend...</td>\n",
       "      <td>2021</td>\n",
       "      <td>9</td>\n",
       "      <td>4</td>\n",
       "    </tr>\n",
       "    <tr>\n",
       "      <th>4</th>\n",
       "      <td>12</td>\n",
       "      <td>s13</td>\n",
       "      <td>Movie</td>\n",
       "      <td>Je Suis Karl</td>\n",
       "      <td>Christian Schwochow</td>\n",
       "      <td>Luna Wedler, Jannis Niewöhner, Milan Peschel, ...</td>\n",
       "      <td>Germany, Czech Republic</td>\n",
       "      <td>2021-09-23</td>\n",
       "      <td>2021</td>\n",
       "      <td>TV-MA</td>\n",
       "      <td>127 min</td>\n",
       "      <td>Dramas, International Movies</td>\n",
       "      <td>After most of her family is murdered in a terr...</td>\n",
       "      <td>2021</td>\n",
       "      <td>9</td>\n",
       "      <td>3</td>\n",
       "    </tr>\n",
       "  </tbody>\n",
       "</table>\n",
       "</div>"
      ],
      "text/plain": [
       "   index show_id   type                             title  \\\n",
       "0      0      s1  Movie              Dick Johnson Is Dead   \n",
       "1      6      s7  Movie  My Little Pony: A New Generation   \n",
       "2      7      s8  Movie                           Sankofa   \n",
       "3      9     s10  Movie                      The Starling   \n",
       "4     12     s13  Movie                      Je Suis Karl   \n",
       "\n",
       "                        director  \\\n",
       "0                Kirsten Johnson   \n",
       "1  Robert Cullen, José Luis Ucha   \n",
       "2                   Haile Gerima   \n",
       "3                 Theodore Melfi   \n",
       "4            Christian Schwochow   \n",
       "\n",
       "                                                cast  \\\n",
       "0                                                NaN   \n",
       "1  Vanessa Hudgens, Kimiko Glenn, James Marsden, ...   \n",
       "2  Kofi Ghanaba, Oyafunmike Ogunlano, Alexandra D...   \n",
       "3  Melissa McCarthy, Chris O'Dowd, Kevin Kline, T...   \n",
       "4  Luna Wedler, Jannis Niewöhner, Milan Peschel, ...   \n",
       "\n",
       "                                             country date_added  release_year  \\\n",
       "0                                      United States 2021-09-25          2020   \n",
       "1                                                NaN 2021-09-24          2021   \n",
       "2  United States, Ghana, Burkina Faso, United Kin... 2021-09-24          1993   \n",
       "3                                      United States 2021-09-24          2021   \n",
       "4                            Germany, Czech Republic 2021-09-23          2021   \n",
       "\n",
       "  rating duration                                         listed_in  \\\n",
       "0  PG-13   90 min                                     Documentaries   \n",
       "1     PG   91 min                          Children & Family Movies   \n",
       "2  TV-MA  125 min  Dramas, Independent Movies, International Movies   \n",
       "3  PG-13  104 min                                  Comedies, Dramas   \n",
       "4  TV-MA  127 min                      Dramas, International Movies   \n",
       "\n",
       "                                         description  date_added_year  \\\n",
       "0  As her father nears the end of his life, filmm...             2021   \n",
       "1  Equestria's divided. But a bright-eyed hero be...             2021   \n",
       "2  On a photo shoot in Ghana, an American model s...             2021   \n",
       "3  A woman adjusting to life after a loss contend...             2021   \n",
       "4  After most of her family is murdered in a terr...             2021   \n",
       "\n",
       "   date_added_month  date_added_dow  \n",
       "0                 9               5  \n",
       "1                 9               4  \n",
       "2                 9               4  \n",
       "3                 9               4  \n",
       "4                 9               3  "
      ]
     },
     "execution_count": 332,
     "metadata": {},
     "output_type": "execute_result"
    }
   ],
   "source": [
    "df_movie.head()"
   ]
  },
  {
   "cell_type": "code",
   "execution_count": 333,
   "metadata": {},
   "outputs": [
    {
     "data": {
      "text/plain": [
       "index                 0\n",
       "show_id               0\n",
       "type                  0\n",
       "title                 0\n",
       "director            188\n",
       "cast                475\n",
       "country             440\n",
       "date_added            0\n",
       "release_year          0\n",
       "rating                2\n",
       "duration              3\n",
       "listed_in             0\n",
       "description           0\n",
       "date_added_year       0\n",
       "date_added_month      0\n",
       "date_added_dow        0\n",
       "dtype: int64"
      ]
     },
     "execution_count": 333,
     "metadata": {},
     "output_type": "execute_result"
    }
   ],
   "source": [
    "df_movie.isnull().sum()"
   ]
  },
  {
   "attachments": {},
   "cell_type": "markdown",
   "metadata": {},
   "source": [
    "### Lets us now change the cast into type list and then explode the dataframe on that. We will do the same for the column country and lisited_in. Eventually for the rows which still has nulls, we will drop them. "
   ]
  },
  {
   "attachments": {},
   "cell_type": "markdown",
   "metadata": {},
   "source": [
    "checking for null in cast, country and listed_in column"
   ]
  },
  {
   "cell_type": "code",
   "execution_count": 335,
   "metadata": {},
   "outputs": [
    {
     "data": {
      "text/plain": [
       "475"
      ]
     },
     "execution_count": 335,
     "metadata": {},
     "output_type": "execute_result"
    }
   ],
   "source": [
    "df_movie['cast'].isnull().sum()"
   ]
  },
  {
   "cell_type": "code",
   "execution_count": 337,
   "metadata": {},
   "outputs": [
    {
     "data": {
      "text/plain": [
       "440"
      ]
     },
     "execution_count": 337,
     "metadata": {},
     "output_type": "execute_result"
    }
   ],
   "source": [
    "df_movie['country'].isnull().sum()"
   ]
  },
  {
   "cell_type": "code",
   "execution_count": 338,
   "metadata": {},
   "outputs": [
    {
     "data": {
      "text/plain": [
       "0"
      ]
     },
     "execution_count": 338,
     "metadata": {},
     "output_type": "execute_result"
    }
   ],
   "source": [
    "df_movie['listed_in'].isnull().sum()"
   ]
  },
  {
   "attachments": {},
   "cell_type": "markdown",
   "metadata": {},
   "source": [
    "since the null value is less than 10 percent of the movie data we will drop them"
   ]
  },
  {
   "cell_type": "code",
   "execution_count": 339,
   "metadata": {},
   "outputs": [],
   "source": [
    "df_movie_nonna = df_movie.dropna(axis= 0)"
   ]
  },
  {
   "cell_type": "code",
   "execution_count": 340,
   "metadata": {},
   "outputs": [
    {
     "data": {
      "text/plain": [
       "index               0\n",
       "show_id             0\n",
       "type                0\n",
       "title               0\n",
       "director            0\n",
       "cast                0\n",
       "country             0\n",
       "date_added          0\n",
       "release_year        0\n",
       "rating              0\n",
       "duration            0\n",
       "listed_in           0\n",
       "description         0\n",
       "date_added_year     0\n",
       "date_added_month    0\n",
       "date_added_dow      0\n",
       "dtype: int64"
      ]
     },
     "execution_count": 340,
     "metadata": {},
     "output_type": "execute_result"
    }
   ],
   "source": [
    "df_movie_nonna.isnull().sum()"
   ]
  },
  {
   "attachments": {},
   "cell_type": "markdown",
   "metadata": {},
   "source": [
    "since the data does not have any null values, we will work on cast, country and listed_in columns"
   ]
  },
  {
   "cell_type": "code",
   "execution_count": 341,
   "metadata": {},
   "outputs": [],
   "source": [
    "df_movie_nonna['cast'] = df_movie_nonna['cast'].apply(lambda x: x.lower().split(', '))\n",
    "df_movie_nonna['country'] = df_movie_nonna['country'].apply(lambda x: x.lower().split(', '))\n",
    "df_movie_nonna['listed_in'] = df_movie_nonna['listed_in'].apply(lambda x: x.lower().split(', '))"
   ]
  },
  {
   "cell_type": "code",
   "execution_count": 344,
   "metadata": {},
   "outputs": [],
   "source": [
    "df_movie_nonna = df_movie_nonna.explode(column= 'listed_in')\n"
   ]
  },
  {
   "cell_type": "code",
   "execution_count": 345,
   "metadata": {},
   "outputs": [],
   "source": [
    "df_movie_nonna = df_movie_nonna.explode(column= 'country')\n"
   ]
  },
  {
   "cell_type": "code",
   "execution_count": 346,
   "metadata": {},
   "outputs": [],
   "source": [
    "df_movie_nonna = df_movie_nonna.explode(column= 'cast')"
   ]
  },
  {
   "cell_type": "code",
   "execution_count": 347,
   "metadata": {},
   "outputs": [
    {
     "data": {
      "text/html": [
       "<div>\n",
       "<style scoped>\n",
       "    .dataframe tbody tr th:only-of-type {\n",
       "        vertical-align: middle;\n",
       "    }\n",
       "\n",
       "    .dataframe tbody tr th {\n",
       "        vertical-align: top;\n",
       "    }\n",
       "\n",
       "    .dataframe thead th {\n",
       "        text-align: right;\n",
       "    }\n",
       "</style>\n",
       "<table border=\"1\" class=\"dataframe\">\n",
       "  <thead>\n",
       "    <tr style=\"text-align: right;\">\n",
       "      <th></th>\n",
       "      <th>index</th>\n",
       "      <th>show_id</th>\n",
       "      <th>type</th>\n",
       "      <th>title</th>\n",
       "      <th>director</th>\n",
       "      <th>cast</th>\n",
       "      <th>country</th>\n",
       "      <th>date_added</th>\n",
       "      <th>release_year</th>\n",
       "      <th>rating</th>\n",
       "      <th>duration</th>\n",
       "      <th>listed_in</th>\n",
       "      <th>description</th>\n",
       "      <th>date_added_year</th>\n",
       "      <th>date_added_month</th>\n",
       "      <th>date_added_dow</th>\n",
       "    </tr>\n",
       "  </thead>\n",
       "  <tbody>\n",
       "    <tr>\n",
       "      <th>2</th>\n",
       "      <td>7</td>\n",
       "      <td>s8</td>\n",
       "      <td>Movie</td>\n",
       "      <td>Sankofa</td>\n",
       "      <td>Haile Gerima</td>\n",
       "      <td>kofi ghanaba</td>\n",
       "      <td>united states</td>\n",
       "      <td>2021-09-24</td>\n",
       "      <td>1993</td>\n",
       "      <td>TV-MA</td>\n",
       "      <td>125 min</td>\n",
       "      <td>dramas</td>\n",
       "      <td>On a photo shoot in Ghana, an American model s...</td>\n",
       "      <td>2021</td>\n",
       "      <td>9</td>\n",
       "      <td>4</td>\n",
       "    </tr>\n",
       "    <tr>\n",
       "      <th>2</th>\n",
       "      <td>7</td>\n",
       "      <td>s8</td>\n",
       "      <td>Movie</td>\n",
       "      <td>Sankofa</td>\n",
       "      <td>Haile Gerima</td>\n",
       "      <td>oyafunmike ogunlano</td>\n",
       "      <td>united states</td>\n",
       "      <td>2021-09-24</td>\n",
       "      <td>1993</td>\n",
       "      <td>TV-MA</td>\n",
       "      <td>125 min</td>\n",
       "      <td>dramas</td>\n",
       "      <td>On a photo shoot in Ghana, an American model s...</td>\n",
       "      <td>2021</td>\n",
       "      <td>9</td>\n",
       "      <td>4</td>\n",
       "    </tr>\n",
       "    <tr>\n",
       "      <th>2</th>\n",
       "      <td>7</td>\n",
       "      <td>s8</td>\n",
       "      <td>Movie</td>\n",
       "      <td>Sankofa</td>\n",
       "      <td>Haile Gerima</td>\n",
       "      <td>alexandra duah</td>\n",
       "      <td>united states</td>\n",
       "      <td>2021-09-24</td>\n",
       "      <td>1993</td>\n",
       "      <td>TV-MA</td>\n",
       "      <td>125 min</td>\n",
       "      <td>dramas</td>\n",
       "      <td>On a photo shoot in Ghana, an American model s...</td>\n",
       "      <td>2021</td>\n",
       "      <td>9</td>\n",
       "      <td>4</td>\n",
       "    </tr>\n",
       "    <tr>\n",
       "      <th>2</th>\n",
       "      <td>7</td>\n",
       "      <td>s8</td>\n",
       "      <td>Movie</td>\n",
       "      <td>Sankofa</td>\n",
       "      <td>Haile Gerima</td>\n",
       "      <td>nick medley</td>\n",
       "      <td>united states</td>\n",
       "      <td>2021-09-24</td>\n",
       "      <td>1993</td>\n",
       "      <td>TV-MA</td>\n",
       "      <td>125 min</td>\n",
       "      <td>dramas</td>\n",
       "      <td>On a photo shoot in Ghana, an American model s...</td>\n",
       "      <td>2021</td>\n",
       "      <td>9</td>\n",
       "      <td>4</td>\n",
       "    </tr>\n",
       "    <tr>\n",
       "      <th>2</th>\n",
       "      <td>7</td>\n",
       "      <td>s8</td>\n",
       "      <td>Movie</td>\n",
       "      <td>Sankofa</td>\n",
       "      <td>Haile Gerima</td>\n",
       "      <td>mutabaruka</td>\n",
       "      <td>united states</td>\n",
       "      <td>2021-09-24</td>\n",
       "      <td>1993</td>\n",
       "      <td>TV-MA</td>\n",
       "      <td>125 min</td>\n",
       "      <td>dramas</td>\n",
       "      <td>On a photo shoot in Ghana, an American model s...</td>\n",
       "      <td>2021</td>\n",
       "      <td>9</td>\n",
       "      <td>4</td>\n",
       "    </tr>\n",
       "    <tr>\n",
       "      <th>...</th>\n",
       "      <td>...</td>\n",
       "      <td>...</td>\n",
       "      <td>...</td>\n",
       "      <td>...</td>\n",
       "      <td>...</td>\n",
       "      <td>...</td>\n",
       "      <td>...</td>\n",
       "      <td>...</td>\n",
       "      <td>...</td>\n",
       "      <td>...</td>\n",
       "      <td>...</td>\n",
       "      <td>...</td>\n",
       "      <td>...</td>\n",
       "      <td>...</td>\n",
       "      <td>...</td>\n",
       "      <td>...</td>\n",
       "    </tr>\n",
       "    <tr>\n",
       "      <th>6130</th>\n",
       "      <td>8806</td>\n",
       "      <td>s8807</td>\n",
       "      <td>Movie</td>\n",
       "      <td>Zubaan</td>\n",
       "      <td>Mozez Singh</td>\n",
       "      <td>manish chaudhary</td>\n",
       "      <td>india</td>\n",
       "      <td>2019-03-02</td>\n",
       "      <td>2015</td>\n",
       "      <td>TV-14</td>\n",
       "      <td>111 min</td>\n",
       "      <td>music &amp; musicals</td>\n",
       "      <td>A scrappy but poor boy worms his way into a ty...</td>\n",
       "      <td>2019</td>\n",
       "      <td>3</td>\n",
       "      <td>5</td>\n",
       "    </tr>\n",
       "    <tr>\n",
       "      <th>6130</th>\n",
       "      <td>8806</td>\n",
       "      <td>s8807</td>\n",
       "      <td>Movie</td>\n",
       "      <td>Zubaan</td>\n",
       "      <td>Mozez Singh</td>\n",
       "      <td>meghna malik</td>\n",
       "      <td>india</td>\n",
       "      <td>2019-03-02</td>\n",
       "      <td>2015</td>\n",
       "      <td>TV-14</td>\n",
       "      <td>111 min</td>\n",
       "      <td>music &amp; musicals</td>\n",
       "      <td>A scrappy but poor boy worms his way into a ty...</td>\n",
       "      <td>2019</td>\n",
       "      <td>3</td>\n",
       "      <td>5</td>\n",
       "    </tr>\n",
       "    <tr>\n",
       "      <th>6130</th>\n",
       "      <td>8806</td>\n",
       "      <td>s8807</td>\n",
       "      <td>Movie</td>\n",
       "      <td>Zubaan</td>\n",
       "      <td>Mozez Singh</td>\n",
       "      <td>malkeet rauni</td>\n",
       "      <td>india</td>\n",
       "      <td>2019-03-02</td>\n",
       "      <td>2015</td>\n",
       "      <td>TV-14</td>\n",
       "      <td>111 min</td>\n",
       "      <td>music &amp; musicals</td>\n",
       "      <td>A scrappy but poor boy worms his way into a ty...</td>\n",
       "      <td>2019</td>\n",
       "      <td>3</td>\n",
       "      <td>5</td>\n",
       "    </tr>\n",
       "    <tr>\n",
       "      <th>6130</th>\n",
       "      <td>8806</td>\n",
       "      <td>s8807</td>\n",
       "      <td>Movie</td>\n",
       "      <td>Zubaan</td>\n",
       "      <td>Mozez Singh</td>\n",
       "      <td>anita shabdish</td>\n",
       "      <td>india</td>\n",
       "      <td>2019-03-02</td>\n",
       "      <td>2015</td>\n",
       "      <td>TV-14</td>\n",
       "      <td>111 min</td>\n",
       "      <td>music &amp; musicals</td>\n",
       "      <td>A scrappy but poor boy worms his way into a ty...</td>\n",
       "      <td>2019</td>\n",
       "      <td>3</td>\n",
       "      <td>5</td>\n",
       "    </tr>\n",
       "    <tr>\n",
       "      <th>6130</th>\n",
       "      <td>8806</td>\n",
       "      <td>s8807</td>\n",
       "      <td>Movie</td>\n",
       "      <td>Zubaan</td>\n",
       "      <td>Mozez Singh</td>\n",
       "      <td>chittaranjan tripathy</td>\n",
       "      <td>india</td>\n",
       "      <td>2019-03-02</td>\n",
       "      <td>2015</td>\n",
       "      <td>TV-14</td>\n",
       "      <td>111 min</td>\n",
       "      <td>music &amp; musicals</td>\n",
       "      <td>A scrappy but poor boy worms his way into a ty...</td>\n",
       "      <td>2019</td>\n",
       "      <td>3</td>\n",
       "      <td>5</td>\n",
       "    </tr>\n",
       "  </tbody>\n",
       "</table>\n",
       "<p>124267 rows × 16 columns</p>\n",
       "</div>"
      ],
      "text/plain": [
       "      index show_id   type    title      director                   cast  \\\n",
       "2         7      s8  Movie  Sankofa  Haile Gerima           kofi ghanaba   \n",
       "2         7      s8  Movie  Sankofa  Haile Gerima    oyafunmike ogunlano   \n",
       "2         7      s8  Movie  Sankofa  Haile Gerima         alexandra duah   \n",
       "2         7      s8  Movie  Sankofa  Haile Gerima            nick medley   \n",
       "2         7      s8  Movie  Sankofa  Haile Gerima             mutabaruka   \n",
       "...     ...     ...    ...      ...           ...                    ...   \n",
       "6130   8806   s8807  Movie   Zubaan   Mozez Singh       manish chaudhary   \n",
       "6130   8806   s8807  Movie   Zubaan   Mozez Singh           meghna malik   \n",
       "6130   8806   s8807  Movie   Zubaan   Mozez Singh          malkeet rauni   \n",
       "6130   8806   s8807  Movie   Zubaan   Mozez Singh         anita shabdish   \n",
       "6130   8806   s8807  Movie   Zubaan   Mozez Singh  chittaranjan tripathy   \n",
       "\n",
       "            country date_added  release_year rating duration  \\\n",
       "2     united states 2021-09-24          1993  TV-MA  125 min   \n",
       "2     united states 2021-09-24          1993  TV-MA  125 min   \n",
       "2     united states 2021-09-24          1993  TV-MA  125 min   \n",
       "2     united states 2021-09-24          1993  TV-MA  125 min   \n",
       "2     united states 2021-09-24          1993  TV-MA  125 min   \n",
       "...             ...        ...           ...    ...      ...   \n",
       "6130          india 2019-03-02          2015  TV-14  111 min   \n",
       "6130          india 2019-03-02          2015  TV-14  111 min   \n",
       "6130          india 2019-03-02          2015  TV-14  111 min   \n",
       "6130          india 2019-03-02          2015  TV-14  111 min   \n",
       "6130          india 2019-03-02          2015  TV-14  111 min   \n",
       "\n",
       "             listed_in                                        description  \\\n",
       "2               dramas  On a photo shoot in Ghana, an American model s...   \n",
       "2               dramas  On a photo shoot in Ghana, an American model s...   \n",
       "2               dramas  On a photo shoot in Ghana, an American model s...   \n",
       "2               dramas  On a photo shoot in Ghana, an American model s...   \n",
       "2               dramas  On a photo shoot in Ghana, an American model s...   \n",
       "...                ...                                                ...   \n",
       "6130  music & musicals  A scrappy but poor boy worms his way into a ty...   \n",
       "6130  music & musicals  A scrappy but poor boy worms his way into a ty...   \n",
       "6130  music & musicals  A scrappy but poor boy worms his way into a ty...   \n",
       "6130  music & musicals  A scrappy but poor boy worms his way into a ty...   \n",
       "6130  music & musicals  A scrappy but poor boy worms his way into a ty...   \n",
       "\n",
       "      date_added_year  date_added_month  date_added_dow  \n",
       "2                2021                 9               4  \n",
       "2                2021                 9               4  \n",
       "2                2021                 9               4  \n",
       "2                2021                 9               4  \n",
       "2                2021                 9               4  \n",
       "...               ...               ...             ...  \n",
       "6130             2019                 3               5  \n",
       "6130             2019                 3               5  \n",
       "6130             2019                 3               5  \n",
       "6130             2019                 3               5  \n",
       "6130             2019                 3               5  \n",
       "\n",
       "[124267 rows x 16 columns]"
      ]
     },
     "execution_count": 347,
     "metadata": {},
     "output_type": "execute_result"
    }
   ],
   "source": [
    "df_movie_nonna"
   ]
  },
  {
   "cell_type": "code",
   "execution_count": 348,
   "metadata": {},
   "outputs": [
    {
     "data": {
      "text/plain": [
       "array(['125 min', '104 min', '127 min', '166 min', '103 min', '97 min',\n",
       "       '106 min', '96 min', '124 min', '116 min', '98 min', '91 min',\n",
       "       '115 min', '122 min', '99 min', '88 min', '100 min', '102 min',\n",
       "       '93 min', '95 min', '85 min', '83 min', '182 min', '147 min',\n",
       "       '90 min', '128 min', '143 min', '119 min', '114 min', '118 min',\n",
       "       '108 min', '117 min', '121 min', '142 min', '113 min', '154 min',\n",
       "       '120 min', '82 min', '94 min', '109 min', '101 min', '105 min',\n",
       "       '86 min', '229 min', '76 min', '89 min', '110 min', '156 min',\n",
       "       '112 min', '129 min', '107 min', '135 min', '136 min', '165 min',\n",
       "       '150 min', '133 min', '145 min', '92 min', '64 min', '59 min',\n",
       "       '111 min', '87 min', '148 min', '189 min', '141 min', '130 min',\n",
       "       '68 min', '131 min', '126 min', '155 min', '123 min', '84 min',\n",
       "       '13 min', '77 min', '74 min', '49 min', '72 min', '78 min',\n",
       "       '70 min', '132 min', '140 min', '81 min', '138 min', '149 min',\n",
       "       '15 min', '224 min', '162 min', '60 min', '65 min', '137 min',\n",
       "       '75 min', '32 min', '158 min', '164 min', '173 min', '181 min',\n",
       "       '73 min', '24 min', '80 min', '139 min', '151 min', '22 min',\n",
       "       '134 min', '58 min', '52 min', '71 min', '161 min', '53 min',\n",
       "       '8 min', '46 min', '57 min', '28 min', '66 min', '50 min',\n",
       "       '79 min', '26 min', '54 min', '48 min', '45 min', '171 min',\n",
       "       '42 min', '27 min', '51 min', '69 min', '47 min', '33 min',\n",
       "       '44 min', '29 min', '146 min', '61 min', '63 min', '157 min',\n",
       "       '203 min', '25 min', '30 min', '62 min', '194 min', '55 min',\n",
       "       '177 min', '237 min', '195 min', '253 min', '152 min', '67 min',\n",
       "       '190 min', '160 min', '208 min', '180 min', '144 min', '174 min',\n",
       "       '170 min', '192 min', '209 min', '187 min', '185 min', '172 min',\n",
       "       '186 min', '193 min', '176 min', '17 min', '56 min', '169 min',\n",
       "       '40 min', '20 min', '12 min', '168 min', '153 min', '159 min',\n",
       "       '214 min', '31 min', '163 min', '14 min', '179 min', '38 min',\n",
       "       '23 min', '43 min', '200 min', '196 min', '167 min', '41 min',\n",
       "       '37 min', '35 min', '178 min', '228 min', '18 min', '205 min',\n",
       "       '201 min', '191 min'], dtype=object)"
      ]
     },
     "execution_count": 348,
     "metadata": {},
     "output_type": "execute_result"
    }
   ],
   "source": [
    "df_movie_nonna['duration'].unique()"
   ]
  },
  {
   "attachments": {},
   "cell_type": "markdown",
   "metadata": {},
   "source": [
    "## Lets do some visualization"
   ]
  },
  {
   "cell_type": "code",
   "execution_count": 349,
   "metadata": {},
   "outputs": [
    {
     "data": {
      "text/html": [
       "<div>\n",
       "<style scoped>\n",
       "    .dataframe tbody tr th:only-of-type {\n",
       "        vertical-align: middle;\n",
       "    }\n",
       "\n",
       "    .dataframe tbody tr th {\n",
       "        vertical-align: top;\n",
       "    }\n",
       "\n",
       "    .dataframe thead th {\n",
       "        text-align: right;\n",
       "    }\n",
       "</style>\n",
       "<table border=\"1\" class=\"dataframe\">\n",
       "  <thead>\n",
       "    <tr style=\"text-align: right;\">\n",
       "      <th></th>\n",
       "      <th>index</th>\n",
       "      <th>show_id</th>\n",
       "      <th>type</th>\n",
       "      <th>title</th>\n",
       "      <th>director</th>\n",
       "      <th>cast</th>\n",
       "      <th>country</th>\n",
       "      <th>date_added</th>\n",
       "      <th>release_year</th>\n",
       "      <th>rating</th>\n",
       "      <th>duration</th>\n",
       "      <th>listed_in</th>\n",
       "      <th>description</th>\n",
       "      <th>date_added_year</th>\n",
       "      <th>date_added_month</th>\n",
       "      <th>date_added_dow</th>\n",
       "    </tr>\n",
       "  </thead>\n",
       "  <tbody>\n",
       "    <tr>\n",
       "      <th>2</th>\n",
       "      <td>7</td>\n",
       "      <td>s8</td>\n",
       "      <td>Movie</td>\n",
       "      <td>Sankofa</td>\n",
       "      <td>Haile Gerima</td>\n",
       "      <td>kofi ghanaba</td>\n",
       "      <td>united states</td>\n",
       "      <td>2021-09-24</td>\n",
       "      <td>1993</td>\n",
       "      <td>TV-MA</td>\n",
       "      <td>125 min</td>\n",
       "      <td>dramas</td>\n",
       "      <td>On a photo shoot in Ghana, an American model s...</td>\n",
       "      <td>2021</td>\n",
       "      <td>9</td>\n",
       "      <td>4</td>\n",
       "    </tr>\n",
       "    <tr>\n",
       "      <th>2</th>\n",
       "      <td>7</td>\n",
       "      <td>s8</td>\n",
       "      <td>Movie</td>\n",
       "      <td>Sankofa</td>\n",
       "      <td>Haile Gerima</td>\n",
       "      <td>oyafunmike ogunlano</td>\n",
       "      <td>united states</td>\n",
       "      <td>2021-09-24</td>\n",
       "      <td>1993</td>\n",
       "      <td>TV-MA</td>\n",
       "      <td>125 min</td>\n",
       "      <td>dramas</td>\n",
       "      <td>On a photo shoot in Ghana, an American model s...</td>\n",
       "      <td>2021</td>\n",
       "      <td>9</td>\n",
       "      <td>4</td>\n",
       "    </tr>\n",
       "    <tr>\n",
       "      <th>2</th>\n",
       "      <td>7</td>\n",
       "      <td>s8</td>\n",
       "      <td>Movie</td>\n",
       "      <td>Sankofa</td>\n",
       "      <td>Haile Gerima</td>\n",
       "      <td>alexandra duah</td>\n",
       "      <td>united states</td>\n",
       "      <td>2021-09-24</td>\n",
       "      <td>1993</td>\n",
       "      <td>TV-MA</td>\n",
       "      <td>125 min</td>\n",
       "      <td>dramas</td>\n",
       "      <td>On a photo shoot in Ghana, an American model s...</td>\n",
       "      <td>2021</td>\n",
       "      <td>9</td>\n",
       "      <td>4</td>\n",
       "    </tr>\n",
       "    <tr>\n",
       "      <th>2</th>\n",
       "      <td>7</td>\n",
       "      <td>s8</td>\n",
       "      <td>Movie</td>\n",
       "      <td>Sankofa</td>\n",
       "      <td>Haile Gerima</td>\n",
       "      <td>nick medley</td>\n",
       "      <td>united states</td>\n",
       "      <td>2021-09-24</td>\n",
       "      <td>1993</td>\n",
       "      <td>TV-MA</td>\n",
       "      <td>125 min</td>\n",
       "      <td>dramas</td>\n",
       "      <td>On a photo shoot in Ghana, an American model s...</td>\n",
       "      <td>2021</td>\n",
       "      <td>9</td>\n",
       "      <td>4</td>\n",
       "    </tr>\n",
       "    <tr>\n",
       "      <th>2</th>\n",
       "      <td>7</td>\n",
       "      <td>s8</td>\n",
       "      <td>Movie</td>\n",
       "      <td>Sankofa</td>\n",
       "      <td>Haile Gerima</td>\n",
       "      <td>mutabaruka</td>\n",
       "      <td>united states</td>\n",
       "      <td>2021-09-24</td>\n",
       "      <td>1993</td>\n",
       "      <td>TV-MA</td>\n",
       "      <td>125 min</td>\n",
       "      <td>dramas</td>\n",
       "      <td>On a photo shoot in Ghana, an American model s...</td>\n",
       "      <td>2021</td>\n",
       "      <td>9</td>\n",
       "      <td>4</td>\n",
       "    </tr>\n",
       "    <tr>\n",
       "      <th>...</th>\n",
       "      <td>...</td>\n",
       "      <td>...</td>\n",
       "      <td>...</td>\n",
       "      <td>...</td>\n",
       "      <td>...</td>\n",
       "      <td>...</td>\n",
       "      <td>...</td>\n",
       "      <td>...</td>\n",
       "      <td>...</td>\n",
       "      <td>...</td>\n",
       "      <td>...</td>\n",
       "      <td>...</td>\n",
       "      <td>...</td>\n",
       "      <td>...</td>\n",
       "      <td>...</td>\n",
       "      <td>...</td>\n",
       "    </tr>\n",
       "    <tr>\n",
       "      <th>6130</th>\n",
       "      <td>8806</td>\n",
       "      <td>s8807</td>\n",
       "      <td>Movie</td>\n",
       "      <td>Zubaan</td>\n",
       "      <td>Mozez Singh</td>\n",
       "      <td>manish chaudhary</td>\n",
       "      <td>india</td>\n",
       "      <td>2019-03-02</td>\n",
       "      <td>2015</td>\n",
       "      <td>TV-14</td>\n",
       "      <td>111 min</td>\n",
       "      <td>music &amp; musicals</td>\n",
       "      <td>A scrappy but poor boy worms his way into a ty...</td>\n",
       "      <td>2019</td>\n",
       "      <td>3</td>\n",
       "      <td>5</td>\n",
       "    </tr>\n",
       "    <tr>\n",
       "      <th>6130</th>\n",
       "      <td>8806</td>\n",
       "      <td>s8807</td>\n",
       "      <td>Movie</td>\n",
       "      <td>Zubaan</td>\n",
       "      <td>Mozez Singh</td>\n",
       "      <td>meghna malik</td>\n",
       "      <td>india</td>\n",
       "      <td>2019-03-02</td>\n",
       "      <td>2015</td>\n",
       "      <td>TV-14</td>\n",
       "      <td>111 min</td>\n",
       "      <td>music &amp; musicals</td>\n",
       "      <td>A scrappy but poor boy worms his way into a ty...</td>\n",
       "      <td>2019</td>\n",
       "      <td>3</td>\n",
       "      <td>5</td>\n",
       "    </tr>\n",
       "    <tr>\n",
       "      <th>6130</th>\n",
       "      <td>8806</td>\n",
       "      <td>s8807</td>\n",
       "      <td>Movie</td>\n",
       "      <td>Zubaan</td>\n",
       "      <td>Mozez Singh</td>\n",
       "      <td>malkeet rauni</td>\n",
       "      <td>india</td>\n",
       "      <td>2019-03-02</td>\n",
       "      <td>2015</td>\n",
       "      <td>TV-14</td>\n",
       "      <td>111 min</td>\n",
       "      <td>music &amp; musicals</td>\n",
       "      <td>A scrappy but poor boy worms his way into a ty...</td>\n",
       "      <td>2019</td>\n",
       "      <td>3</td>\n",
       "      <td>5</td>\n",
       "    </tr>\n",
       "    <tr>\n",
       "      <th>6130</th>\n",
       "      <td>8806</td>\n",
       "      <td>s8807</td>\n",
       "      <td>Movie</td>\n",
       "      <td>Zubaan</td>\n",
       "      <td>Mozez Singh</td>\n",
       "      <td>anita shabdish</td>\n",
       "      <td>india</td>\n",
       "      <td>2019-03-02</td>\n",
       "      <td>2015</td>\n",
       "      <td>TV-14</td>\n",
       "      <td>111 min</td>\n",
       "      <td>music &amp; musicals</td>\n",
       "      <td>A scrappy but poor boy worms his way into a ty...</td>\n",
       "      <td>2019</td>\n",
       "      <td>3</td>\n",
       "      <td>5</td>\n",
       "    </tr>\n",
       "    <tr>\n",
       "      <th>6130</th>\n",
       "      <td>8806</td>\n",
       "      <td>s8807</td>\n",
       "      <td>Movie</td>\n",
       "      <td>Zubaan</td>\n",
       "      <td>Mozez Singh</td>\n",
       "      <td>chittaranjan tripathy</td>\n",
       "      <td>india</td>\n",
       "      <td>2019-03-02</td>\n",
       "      <td>2015</td>\n",
       "      <td>TV-14</td>\n",
       "      <td>111 min</td>\n",
       "      <td>music &amp; musicals</td>\n",
       "      <td>A scrappy but poor boy worms his way into a ty...</td>\n",
       "      <td>2019</td>\n",
       "      <td>3</td>\n",
       "      <td>5</td>\n",
       "    </tr>\n",
       "  </tbody>\n",
       "</table>\n",
       "<p>124267 rows × 16 columns</p>\n",
       "</div>"
      ],
      "text/plain": [
       "      index show_id   type    title      director                   cast  \\\n",
       "2         7      s8  Movie  Sankofa  Haile Gerima           kofi ghanaba   \n",
       "2         7      s8  Movie  Sankofa  Haile Gerima    oyafunmike ogunlano   \n",
       "2         7      s8  Movie  Sankofa  Haile Gerima         alexandra duah   \n",
       "2         7      s8  Movie  Sankofa  Haile Gerima            nick medley   \n",
       "2         7      s8  Movie  Sankofa  Haile Gerima             mutabaruka   \n",
       "...     ...     ...    ...      ...           ...                    ...   \n",
       "6130   8806   s8807  Movie   Zubaan   Mozez Singh       manish chaudhary   \n",
       "6130   8806   s8807  Movie   Zubaan   Mozez Singh           meghna malik   \n",
       "6130   8806   s8807  Movie   Zubaan   Mozez Singh          malkeet rauni   \n",
       "6130   8806   s8807  Movie   Zubaan   Mozez Singh         anita shabdish   \n",
       "6130   8806   s8807  Movie   Zubaan   Mozez Singh  chittaranjan tripathy   \n",
       "\n",
       "            country date_added  release_year rating duration  \\\n",
       "2     united states 2021-09-24          1993  TV-MA  125 min   \n",
       "2     united states 2021-09-24          1993  TV-MA  125 min   \n",
       "2     united states 2021-09-24          1993  TV-MA  125 min   \n",
       "2     united states 2021-09-24          1993  TV-MA  125 min   \n",
       "2     united states 2021-09-24          1993  TV-MA  125 min   \n",
       "...             ...        ...           ...    ...      ...   \n",
       "6130          india 2019-03-02          2015  TV-14  111 min   \n",
       "6130          india 2019-03-02          2015  TV-14  111 min   \n",
       "6130          india 2019-03-02          2015  TV-14  111 min   \n",
       "6130          india 2019-03-02          2015  TV-14  111 min   \n",
       "6130          india 2019-03-02          2015  TV-14  111 min   \n",
       "\n",
       "             listed_in                                        description  \\\n",
       "2               dramas  On a photo shoot in Ghana, an American model s...   \n",
       "2               dramas  On a photo shoot in Ghana, an American model s...   \n",
       "2               dramas  On a photo shoot in Ghana, an American model s...   \n",
       "2               dramas  On a photo shoot in Ghana, an American model s...   \n",
       "2               dramas  On a photo shoot in Ghana, an American model s...   \n",
       "...                ...                                                ...   \n",
       "6130  music & musicals  A scrappy but poor boy worms his way into a ty...   \n",
       "6130  music & musicals  A scrappy but poor boy worms his way into a ty...   \n",
       "6130  music & musicals  A scrappy but poor boy worms his way into a ty...   \n",
       "6130  music & musicals  A scrappy but poor boy worms his way into a ty...   \n",
       "6130  music & musicals  A scrappy but poor boy worms his way into a ty...   \n",
       "\n",
       "      date_added_year  date_added_month  date_added_dow  \n",
       "2                2021                 9               4  \n",
       "2                2021                 9               4  \n",
       "2                2021                 9               4  \n",
       "2                2021                 9               4  \n",
       "2                2021                 9               4  \n",
       "...               ...               ...             ...  \n",
       "6130             2019                 3               5  \n",
       "6130             2019                 3               5  \n",
       "6130             2019                 3               5  \n",
       "6130             2019                 3               5  \n",
       "6130             2019                 3               5  \n",
       "\n",
       "[124267 rows x 16 columns]"
      ]
     },
     "execution_count": 349,
     "metadata": {},
     "output_type": "execute_result"
    }
   ],
   "source": [
    "df_movie_nonna"
   ]
  },
  {
   "cell_type": "code",
   "execution_count": 350,
   "metadata": {},
   "outputs": [
    {
     "data": {
      "text/plain": [
       "country\n",
       "united states     7.709740\n",
       "india             3.852652\n",
       "united kingdom    1.536933\n",
       "france            1.124976\n",
       "canada            0.951591\n",
       "                    ...   \n",
       "sri lanka         0.000386\n",
       "iraq              0.000386\n",
       "afghanistan       0.000386\n",
       "panama            0.000386\n",
       "nicaragua         0.000193\n",
       "Name: count, Length: 113, dtype: float64"
      ]
     },
     "execution_count": 350,
     "metadata": {},
     "output_type": "execute_result"
    }
   ],
   "source": [
    "df_movie_nonna['country'].value_counts() / df_movie_nonna['title'].nunique()"
   ]
  },
  {
   "cell_type": "code",
   "execution_count": 364,
   "metadata": {},
   "outputs": [
    {
     "data": {
      "text/plain": [
       "<Axes: xlabel='duration', ylabel='Density'>"
      ]
     },
     "execution_count": 364,
     "metadata": {},
     "output_type": "execute_result"
    },
    {
     "data": {
      "image/png": "[encoded data removed]",
      "text/plain": [
       "<Figure size 640x480 with 1 Axes>"
      ]
     },
     "metadata": {},
     "output_type": "display_data"
    }
   ],
   "source": [
    "sns.distplot(df_movie_nonna[['title','duration']].drop_duplicates()['duration'].apply(lambda x: x.split(' ')[0]))"
   ]
  },
  {
   "cell_type": "code",
   "execution_count": 354,
   "metadata": {},
   "outputs": [
    {
     "data": {
      "text/html": [
       "<div>\n",
       "<style scoped>\n",
       "    .dataframe tbody tr th:only-of-type {\n",
       "        vertical-align: middle;\n",
       "    }\n",
       "\n",
       "    .dataframe tbody tr th {\n",
       "        vertical-align: top;\n",
       "    }\n",
       "\n",
       "    .dataframe thead th {\n",
       "        text-align: right;\n",
       "    }\n",
       "</style>\n",
       "<table border=\"1\" class=\"dataframe\">\n",
       "  <thead>\n",
       "    <tr style=\"text-align: right;\">\n",
       "      <th></th>\n",
       "      <th>cast</th>\n",
       "      <th>title</th>\n",
       "    </tr>\n",
       "  </thead>\n",
       "  <tbody>\n",
       "    <tr>\n",
       "      <th>1975</th>\n",
       "      <td>anupam kher</td>\n",
       "      <td>118</td>\n",
       "    </tr>\n",
       "    <tr>\n",
       "      <th>20652</th>\n",
       "      <td>shah rukh khan</td>\n",
       "      <td>107</td>\n",
       "    </tr>\n",
       "    <tr>\n",
       "      <th>16309</th>\n",
       "      <td>naseeruddin shah</td>\n",
       "      <td>94</td>\n",
       "    </tr>\n",
       "    <tr>\n",
       "      <th>596</th>\n",
       "      <td>akshay kumar</td>\n",
       "      <td>88</td>\n",
       "    </tr>\n",
       "    <tr>\n",
       "      <th>17136</th>\n",
       "      <td>om puri</td>\n",
       "      <td>87</td>\n",
       "    </tr>\n",
       "    <tr>\n",
       "      <th>17371</th>\n",
       "      <td>paresh rawal</td>\n",
       "      <td>85</td>\n",
       "    </tr>\n",
       "    <tr>\n",
       "      <th>3166</th>\n",
       "      <td>boman irani</td>\n",
       "      <td>84</td>\n",
       "    </tr>\n",
       "    <tr>\n",
       "      <th>1228</th>\n",
       "      <td>amitabh bachchan</td>\n",
       "      <td>76</td>\n",
       "    </tr>\n",
       "    <tr>\n",
       "      <th>13270</th>\n",
       "      <td>liam neeson</td>\n",
       "      <td>69</td>\n",
       "    </tr>\n",
       "    <tr>\n",
       "      <th>11731</th>\n",
       "      <td>kareena kapoor</td>\n",
       "      <td>69</td>\n",
       "    </tr>\n",
       "  </tbody>\n",
       "</table>\n",
       "</div>"
      ],
      "text/plain": [
       "                   cast  title\n",
       "1975        anupam kher    118\n",
       "20652    shah rukh khan    107\n",
       "16309  naseeruddin shah     94\n",
       "596        akshay kumar     88\n",
       "17136           om puri     87\n",
       "17371      paresh rawal     85\n",
       "3166        boman irani     84\n",
       "1228   amitabh bachchan     76\n",
       "13270       liam neeson     69\n",
       "11731    kareena kapoor     69"
      ]
     },
     "execution_count": 354,
     "metadata": {},
     "output_type": "execute_result"
    }
   ],
   "source": [
    "df_movie_nonna[['cast','title']].groupby(by='cast').count().reset_index().sort_values(by='title', ascending=False).head(10)"
   ]
  },
  {
   "attachments": {},
   "cell_type": "markdown",
   "metadata": {},
   "source": [
    "The above value had duplicates because of the explosion"
   ]
  },
  {
   "cell_type": "code",
   "execution_count": 355,
   "metadata": {},
   "outputs": [
    {
     "data": {
      "text/html": [
       "<div>\n",
       "<style scoped>\n",
       "    .dataframe tbody tr th:only-of-type {\n",
       "        vertical-align: middle;\n",
       "    }\n",
       "\n",
       "    .dataframe tbody tr th {\n",
       "        vertical-align: top;\n",
       "    }\n",
       "\n",
       "    .dataframe thead th {\n",
       "        text-align: right;\n",
       "    }\n",
       "</style>\n",
       "<table border=\"1\" class=\"dataframe\">\n",
       "  <thead>\n",
       "    <tr style=\"text-align: right;\">\n",
       "      <th></th>\n",
       "      <th>cast</th>\n",
       "      <th>title</th>\n",
       "    </tr>\n",
       "  </thead>\n",
       "  <tbody>\n",
       "    <tr>\n",
       "      <th>1975</th>\n",
       "      <td>anupam kher</td>\n",
       "      <td>42</td>\n",
       "    </tr>\n",
       "    <tr>\n",
       "      <th>20652</th>\n",
       "      <td>shah rukh khan</td>\n",
       "      <td>34</td>\n",
       "    </tr>\n",
       "    <tr>\n",
       "      <th>16309</th>\n",
       "      <td>naseeruddin shah</td>\n",
       "      <td>31</td>\n",
       "    </tr>\n",
       "    <tr>\n",
       "      <th>17136</th>\n",
       "      <td>om puri</td>\n",
       "      <td>30</td>\n",
       "    </tr>\n",
       "    <tr>\n",
       "      <th>596</th>\n",
       "      <td>akshay kumar</td>\n",
       "      <td>30</td>\n",
       "    </tr>\n",
       "    <tr>\n",
       "      <th>17371</th>\n",
       "      <td>paresh rawal</td>\n",
       "      <td>28</td>\n",
       "    </tr>\n",
       "    <tr>\n",
       "      <th>1228</th>\n",
       "      <td>amitabh bachchan</td>\n",
       "      <td>28</td>\n",
       "    </tr>\n",
       "    <tr>\n",
       "      <th>3166</th>\n",
       "      <td>boman irani</td>\n",
       "      <td>27</td>\n",
       "    </tr>\n",
       "    <tr>\n",
       "      <th>11731</th>\n",
       "      <td>kareena kapoor</td>\n",
       "      <td>25</td>\n",
       "    </tr>\n",
       "    <tr>\n",
       "      <th>20057</th>\n",
       "      <td>samuel l. jackson</td>\n",
       "      <td>21</td>\n",
       "    </tr>\n",
       "  </tbody>\n",
       "</table>\n",
       "</div>"
      ],
      "text/plain": [
       "                    cast  title\n",
       "1975         anupam kher     42\n",
       "20652     shah rukh khan     34\n",
       "16309   naseeruddin shah     31\n",
       "17136            om puri     30\n",
       "596         akshay kumar     30\n",
       "17371       paresh rawal     28\n",
       "1228    amitabh bachchan     28\n",
       "3166         boman irani     27\n",
       "11731     kareena kapoor     25\n",
       "20057  samuel l. jackson     21"
      ]
     },
     "execution_count": 355,
     "metadata": {},
     "output_type": "execute_result"
    }
   ],
   "source": [
    "df_movie_actors = df_movie_nonna[['cast','title']].drop_duplicates().groupby(by='cast').count().reset_index().sort_values(by='title', ascending=False).head(10)\n",
    "\n",
    "df_movie_actors"
   ]
  },
  {
   "cell_type": "code",
   "execution_count": 356,
   "metadata": {},
   "outputs": [
    {
     "data": {
      "text/plain": [
       "(124267, 16)"
      ]
     },
     "execution_count": 356,
     "metadata": {},
     "output_type": "execute_result"
    }
   ],
   "source": [
    "df_movie_nonna.shape"
   ]
  },
  {
   "attachments": {},
   "cell_type": "markdown",
   "metadata": {},
   "source": [
    "## Genre, Cast and country analysis"
   ]
  },
  {
   "cell_type": "code",
   "execution_count": 362,
   "metadata": {},
   "outputs": [
    {
     "data": {
      "image/png": "[encoded data removed]",
      "text/plain": [
       "<Figure size 1800x600 with 1 Axes>"
      ]
     },
     "metadata": {},
     "output_type": "display_data"
    },
    {
     "data": {
      "image/png": "[encoded data removed]",
      "text/plain": [
       "<Figure size 1800x600 with 1 Axes>"
      ]
     },
     "metadata": {},
     "output_type": "display_data"
    },
    {
     "data": {
      "image/png": "[encoded data removed]",
      "text/plain": [
       "<Figure size 1800x600 with 1 Axes>"
      ]
     },
     "metadata": {},
     "output_type": "display_data"
    },
    {
     "data": {
      "image/png": "[encoded data removed]",
      "text/plain": [
       "<Figure size 1800x600 with 1 Axes>"
      ]
     },
     "metadata": {},
     "output_type": "display_data"
    },
    {
     "data": {
      "image/png": "[encoded data removed]",
      "text/plain": [
       "<Figure size 1800x600 with 1 Axes>"
      ]
     },
     "metadata": {},
     "output_type": "display_data"
    },
    {
     "data": {
      "image/png": "[encoded data removed]",
      "text/plain": [
       "<Figure size 1800x600 with 1 Axes>"
      ]
     },
     "metadata": {},
     "output_type": "display_data"
    },
    {
     "data": {
      "image/png": "[encoded data removed]",
      "text/plain": [
       "<Figure size 1800x600 with 1 Axes>"
      ]
     },
     "metadata": {},
     "output_type": "display_data"
    }
   ],
   "source": [
    "analysis_plot_barchart(df_movie_nonna, x_cols = ['cast','rating','listed_in','country','date_added_year','date_added_month','date_added_dow'], y='title')"
   ]
  },
  {
   "cell_type": "code",
   "execution_count": null,
   "metadata": {},
   "outputs": [],
   "source": []
  }
 ],
 "metadata": {
  "kernelspec": {
   "display_name": "ds-work",
   "language": "python",
   "name": "python3"
  },
  "language_info": {
   "codemirror_mode": {
    "name": "ipython",
    "version": 3
   },
   "file_extension": ".py",
   "mimetype": "text/x-python",
   "name": "python",
   "nbconvert_exporter": "python",
   "pygments_lexer": "ipython3",
   "version": "3.10.11"
  },
  "orig_nbformat": 4
 },
 "nbformat": 4,
 "nbformat_minor": 2
}
